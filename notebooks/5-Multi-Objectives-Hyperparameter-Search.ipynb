{
 "cells": [
  {
   "cell_type": "markdown",
   "metadata": {
    "id": "IkwToXYFJhDY"
   },
   "source": [
    "# Multi-Objective Hyperparameter Search\n",
    "\n",
    "[![Open In Colab](https://colab.research.google.com/assets/colab-badge.svg)](https://colab.research.google.com/github/deephyper/anl-22-summer-workshop/blob/main/notebooks/5-Multi-Objectives-Hyperparameter-Search.ipynb)\n",
    "\n",
    "Hyperparameter search is an important part of modern ML pipelines. Often, we are not just interested in optimizing these pipelines solely for their predictive performance. One also has to take into account additional metrics when determining a good hyperparameter configuration.\n",
    "\n",
    "[//]: # \"Examples of such metrics may be multiple types of prediction performance (e.g., a good classifier must perform well with respect to accuracy, true and false positive rates, cross-entropy loss etc.); computational efficiency metrics such as number of floating-point operations, average prediction time, and model size; as well as fairness, interpretability and sparseness metrics.\"\n",
    "\n",
    "Accounting for multiple metrics simultaneously results in a multi-objective hyperparameter search problem.\n",
    "\n",
    "In this notebook, we will show to use DeepHyper to find hyperparameter configurations that simultaneously minimize both validation error and number of parameters. The latter serves as a good proxy for model size (and hence, its memory footprint), model sparsity, model efficiency (i.e., number of floating point operations), as well as its average prediction time.\n",
    "\n",
    "The goals of this notebook are:\n",
    "1. Adapt the hyperparameter search example to minimize both validation error and number of model parameters.\n",
    "2. Visualize and explore alternative pareto-optimal hyperparameter configurations.\n",
    "3. (Time permitting) Explore multi-objective capabilities in DeepHyper in more detail."
   ]
  },
  {
   "cell_type": "code",
   "execution_count": 1,
   "metadata": {
    "colab": {
     "base_uri": "https://localhost:8080/"
    },
    "id": "m4aLe5HQfge8",
    "outputId": "08c7c29b-07d2-46cf-9986-75752743da72"
   },
   "outputs": [
    {
     "name": "stdout",
     "output_type": "stream",
     "text": [
      "In Colab: True\n",
      "Looking in indexes: https://pypi.org/simple, https://us-python.pkg.dev/colab-wheels/public/simple/\n",
      "Requirement already satisfied: deephyper in /usr/local/lib/python3.7/dist-packages (0.4.2)\n",
      "Requirement already satisfied: scikit-learn>=0.23.1 in /usr/local/lib/python3.7/dist-packages (from deephyper) (1.0.2)\n",
      "Requirement already satisfied: packaging in /usr/local/lib/python3.7/dist-packages (from deephyper) (21.3)\n",
      "Requirement already satisfied: tinydb in /usr/local/lib/python3.7/dist-packages (from deephyper) (4.7.0)\n",
      "Requirement already satisfied: scipy>=0.19.1 in /usr/local/lib/python3.7/dist-packages (from deephyper) (1.7.3)\n",
      "Requirement already satisfied: Jinja2<3.1 in /usr/local/lib/python3.7/dist-packages (from deephyper) (2.11.3)\n",
      "Requirement already satisfied: dm-tree in /usr/local/lib/python3.7/dist-packages (from deephyper) (0.1.7)\n",
      "Requirement already satisfied: ConfigSpace>=0.4.20 in /usr/local/lib/python3.7/dist-packages (from deephyper) (0.5.0)\n",
      "Requirement already satisfied: tqdm>=4.64.0 in /usr/local/lib/python3.7/dist-packages (from deephyper) (4.64.0)\n",
      "Requirement already satisfied: numpy in /usr/local/lib/python3.7/dist-packages (from deephyper) (1.21.6)\n",
      "Requirement already satisfied: pyyaml in /usr/local/lib/python3.7/dist-packages (from deephyper) (3.13)\n",
      "Requirement already satisfied: pandas>=0.24.2 in /usr/local/lib/python3.7/dist-packages (from deephyper) (1.3.5)\n",
      "Requirement already satisfied: cython in /usr/local/lib/python3.7/dist-packages (from ConfigSpace>=0.4.20->deephyper) (0.29.30)\n",
      "Requirement already satisfied: pyparsing in /usr/local/lib/python3.7/dist-packages (from ConfigSpace>=0.4.20->deephyper) (3.0.9)\n",
      "Requirement already satisfied: MarkupSafe>=0.23 in /usr/local/lib/python3.7/dist-packages (from Jinja2<3.1->deephyper) (2.0.1)\n",
      "Requirement already satisfied: pytz>=2017.3 in /usr/local/lib/python3.7/dist-packages (from pandas>=0.24.2->deephyper) (2022.1)\n",
      "Requirement already satisfied: python-dateutil>=2.7.3 in /usr/local/lib/python3.7/dist-packages (from pandas>=0.24.2->deephyper) (2.8.2)\n",
      "Requirement already satisfied: six>=1.5 in /usr/local/lib/python3.7/dist-packages (from python-dateutil>=2.7.3->pandas>=0.24.2->deephyper) (1.15.0)\n",
      "Requirement already satisfied: joblib>=0.11 in /usr/local/lib/python3.7/dist-packages (from scikit-learn>=0.23.1->deephyper) (1.1.0)\n",
      "Requirement already satisfied: threadpoolctl>=2.0.0 in /usr/local/lib/python3.7/dist-packages (from scikit-learn>=0.23.1->deephyper) (3.1.0)\n",
      "Requirement already satisfied: typing-extensions<5.0.0,>=3.10.0 in /usr/local/lib/python3.7/dist-packages (from tinydb->deephyper) (4.1.1)\n",
      "Looking in indexes: https://pypi.org/simple, https://us-python.pkg.dev/colab-wheels/public/simple/\n",
      "Requirement already satisfied: matplotlib==3.5.2 in /usr/local/lib/python3.7/dist-packages (3.5.2)\n",
      "Requirement already satisfied: python-dateutil>=2.7 in /usr/local/lib/python3.7/dist-packages (from matplotlib==3.5.2) (2.8.2)\n",
      "Requirement already satisfied: pyparsing>=2.2.1 in /usr/local/lib/python3.7/dist-packages (from matplotlib==3.5.2) (3.0.9)\n",
      "Requirement already satisfied: packaging>=20.0 in /usr/local/lib/python3.7/dist-packages (from matplotlib==3.5.2) (21.3)\n",
      "Requirement already satisfied: numpy>=1.17 in /usr/local/lib/python3.7/dist-packages (from matplotlib==3.5.2) (1.21.6)\n",
      "Requirement already satisfied: kiwisolver>=1.0.1 in /usr/local/lib/python3.7/dist-packages (from matplotlib==3.5.2) (1.4.3)\n",
      "Requirement already satisfied: fonttools>=4.22.0 in /usr/local/lib/python3.7/dist-packages (from matplotlib==3.5.2) (4.34.4)\n",
      "Requirement already satisfied: cycler>=0.10 in /usr/local/lib/python3.7/dist-packages (from matplotlib==3.5.2) (0.11.0)\n",
      "Requirement already satisfied: pillow>=6.2.0 in /usr/local/lib/python3.7/dist-packages (from matplotlib==3.5.2) (7.1.2)\n",
      "Requirement already satisfied: typing-extensions in /usr/local/lib/python3.7/dist-packages (from kiwisolver>=1.0.1->matplotlib==3.5.2) (4.1.1)\n",
      "Requirement already satisfied: six>=1.5 in /usr/local/lib/python3.7/dist-packages (from python-dateutil>=2.7->matplotlib==3.5.2) (1.15.0)\n",
      "fatal: destination path 'anl-22-summer-workshop' already exists and is not an empty directory.\n",
      "/content/anl-22-summer-workshop/data\n",
      "Downloading...\n",
      "From: https://drive.google.com/uc?id=1J4kU3j49B9xWRpALgr8d90BjJCnwhAOS\n",
      "To: /content/anl-22-summer-workshop/data/mask.npy\n",
      "100% 195k/195k [00:00<00:00, 59.8MB/s]\n",
      "Downloading...\n",
      "From: https://drive.google.com/uc?id=1fuHM93OUcu536Ux6p2Oandbi3BrGl8vh\n",
      "To: /content/anl-22-summer-workshop/data/sst_var_test.npy\n",
      "100% 661M/661M [00:06<00:00, 102MB/s]\n",
      "Downloading...\n",
      "From: https://drive.google.com/uc?id=1fXHrFpM21LMUFj-S7jXLI4yZcJi3oAaU\n",
      "To: /content/anl-22-summer-workshop/data/sst_var_train.npy\n",
      "100% 190M/190M [00:01<00:00, 95.0MB/s]\n"
     ]
    }
   ],
   "source": [
    "# Test if notebook is executed from Google Colab\n",
    "IN_COLAB = False\n",
    "try:\n",
    "    import google.colab\n",
    "    IN_COLAB = True\n",
    "except:\n",
    "    IN_COLAB = False\n",
    "print(\"In Colab:\", IN_COLAB)\n",
    "\n",
    "# Install dependencies if running in google collab\n",
    "if IN_COLAB:\n",
    "    !pip install deephyper\n",
    "    !pip install matplotlib==3.5.2\n",
    "    !git clone https://github.com/deephyper/anl-22-summer-workshop.git\n",
    "\n",
    "# Download the data if running in google collab\n",
    "if IN_COLAB:\n",
    "    %cd /content/anl-22-summer-workshop/data\n",
    "    !gdown 1J4kU3j49B9xWRpALgr8d90BjJCnwhAOS\n",
    "    !gdown 1fuHM93OUcu536Ux6p2Oandbi3BrGl8vh\n",
    "    !gdown 1fXHrFpM21LMUFj-S7jXLI4yZcJi3oAaU"
   ]
  },
  {
   "cell_type": "markdown",
   "metadata": {
    "id": "QuFKq0eNYu2U"
   },
   "source": [
    "**If running in Google Colab, restart the runtime to load installed packages**. You can also ask for a TPU (the LSTM layer used is not cuda compatible).\n",
    "\n",
    "* `Runtime > Change runtime type (select TPU)`\n",
    "* `Runtime > Restart runtime`"
   ]
  },
  {
   "cell_type": "code",
   "execution_count": 2,
   "metadata": {
    "colab": {
     "base_uri": "https://localhost:8080/"
    },
    "id": "D9C0MLVoJhDa",
    "outputId": "d74f8a5c-844e-4589-8f80-14e6c1730925"
   },
   "outputs": [
    {
     "name": "stdout",
     "output_type": "stream",
     "text": [
      "/content/anl-22-summer-workshop\n",
      "DeepHyper Version: 0.4.2\n"
     ]
    }
   ],
   "source": [
    "# Test if notebook is executed from Google Colab\n",
    "IN_COLAB = False\n",
    "try:\n",
    "      import google.colab\n",
    "      IN_COLAB = True\n",
    "except:\n",
    "      IN_COLAB = False\n",
    "print(\"In Colab:\", IN_COLAB)\n",
    "\n",
    "\n",
    "if IN_COLAB:\n",
    "    % cd/content/anl-22-summer-workshop\n",
    "else:\n",
    "    import os\n",
    "    root_dir = os.path.dirname(os.getcwd())\n",
    "    %cd $root_dir\n",
    "\n",
    "import gzip\n",
    "\n",
    "import deephyper\n",
    "import matplotlib.pyplot as plt\n",
    "import numpy as np\n",
    "import tensorflow as tf\n",
    "\n",
    "from data.utils import load_sst_data, load_data_prepared\n",
    "from sklearn.decomposition import PCA\n",
    "\n",
    "from deephyper.nas.metrics import r2, mse\n",
    "\n",
    "print(f\"DeepHyper Version: {deephyper.__version__}\")"
   ]
  },
  {
   "cell_type": "markdown",
   "metadata": {
    "id": "Lig-stfPY3ZY"
   },
   "source": [
    "## Load sea surface temperature data set\n",
    "Load the data with shape `(timestep, latitude, longitude)` containing temperature with Celsius as unit; each time step is a weekly average"
   ]
  },
  {
   "cell_type": "code",
   "execution_count": 3,
   "metadata": {
    "id": "32Ja0ROjJhDb"
   },
   "outputs": [],
   "source": [
    "train_data, test_data, mask = load_sst_data()"
   ]
  },
  {
   "cell_type": "markdown",
   "metadata": {
    "id": "YK2PsC51ZItV"
   },
   "source": [
    "## Baseline LSTM Model"
   ]
  },
  {
   "cell_type": "code",
   "execution_count": 4,
   "metadata": {
    "id": "njY9LDX8JhDc"
   },
   "outputs": [],
   "source": [
    "def build_and_train_model(config: dict, n_components: int = 5, verbose: bool = 0):\n",
    "    tf.keras.utils.set_random_seed(42)\n",
    "\n",
    "    default_config = {\n",
    "        \"lstm_units\": 128,\n",
    "        \"activation\": \"tanh\",\n",
    "        \"recurrent_activation\": \"sigmoid\",\n",
    "        \"learning_rate\": 1e-3,\n",
    "        \"batch_size\": 64,\n",
    "        \"dropout_rate\": 0,\n",
    "        \"num_layers\": 1,\n",
    "        \"epochs\": 20,\n",
    "    }\n",
    "    default_config.update(config)\n",
    "\n",
    "    (X_train, y_train), (X_valid, y_valid), _, _ = load_data_prepared(\n",
    "        n_components=n_components\n",
    "    )\n",
    "\n",
    "    layers = []\n",
    "    for _ in range(default_config[\"num_layers\"]):\n",
    "        lstm_layer = tf.keras.layers.LSTM(\n",
    "            default_config[\"lstm_units\"],\n",
    "            activation=default_config[\"activation\"],\n",
    "            recurrent_activation=default_config[\"recurrent_activation\"],\n",
    "            return_sequences=True,\n",
    "        )\n",
    "        dropout_layer = tf.keras.layers.Dropout(default_config[\"dropout_rate\"])\n",
    "        layers.extend([lstm_layer, dropout_layer])\n",
    "\n",
    "    model = tf.keras.Sequential(\n",
    "        [tf.keras.Input(shape=X_train.shape[1:])]\n",
    "        + layers\n",
    "        + [tf.keras.layers.Dense(n_components)]\n",
    "    )\n",
    "\n",
    "    if verbose:\n",
    "        model.summary()\n",
    "\n",
    "    optimizer = tf.keras.optimizers.Adam(learning_rate=default_config[\"learning_rate\"])\n",
    "    model.compile(optimizer, \"mse\", metrics=[])\n",
    "\n",
    "    history = model.fit(\n",
    "        X_train,\n",
    "        y_train,\n",
    "        epochs=default_config[\"epochs\"],\n",
    "        batch_size=default_config[\"batch_size\"],\n",
    "        validation_data=(X_valid, y_valid),\n",
    "        verbose=verbose,\n",
    "    ).history\n",
    "\n",
    "    return model, history\n"
   ]
  },
  {
   "cell_type": "code",
   "execution_count": 5,
   "metadata": {
    "colab": {
     "base_uri": "https://localhost:8080/"
    },
    "id": "NDirckdUJhDd",
    "outputId": "67a45f65-0b94-4769-e1da-62ba0b74e4f2"
   },
   "outputs": [
    {
     "name": "stdout",
     "output_type": "stream",
     "text": [
      "Model: \"sequential\"\n",
      "_________________________________________________________________\n",
      " Layer (type)                Output Shape              Param #   \n",
      "=================================================================\n",
      " lstm (LSTM)                 (None, 8, 128)            68608     \n",
      "                                                                 \n",
      " dropout (Dropout)           (None, 8, 128)            0         \n",
      "                                                                 \n",
      " dense (Dense)               (None, 8, 5)              645       \n",
      "                                                                 \n",
      "=================================================================\n",
      "Total params: 69,253\n",
      "Trainable params: 69,253\n",
      "Non-trainable params: 0\n",
      "_________________________________________________________________\n",
      "Epoch 1/20\n",
      "14/14 [==============================] - 5s 73ms/step - loss: 0.1763 - val_loss: 0.1014\n",
      "Epoch 2/20\n",
      "14/14 [==============================] - 0s 27ms/step - loss: 0.0855 - val_loss: 0.0696\n",
      "Epoch 3/20\n",
      "14/14 [==============================] - 0s 25ms/step - loss: 0.0602 - val_loss: 0.0499\n",
      "Epoch 4/20\n",
      "14/14 [==============================] - 0s 26ms/step - loss: 0.0447 - val_loss: 0.0397\n",
      "Epoch 5/20\n",
      "14/14 [==============================] - 0s 26ms/step - loss: 0.0372 - val_loss: 0.0338\n",
      "Epoch 6/20\n",
      "14/14 [==============================] - 0s 25ms/step - loss: 0.0322 - val_loss: 0.0298\n",
      "Epoch 7/20\n",
      "14/14 [==============================] - 0s 25ms/step - loss: 0.0287 - val_loss: 0.0266\n",
      "Epoch 8/20\n",
      "14/14 [==============================] - 0s 24ms/step - loss: 0.0257 - val_loss: 0.0240\n",
      "Epoch 9/20\n",
      "14/14 [==============================] - 0s 24ms/step - loss: 0.0232 - val_loss: 0.0220\n",
      "Epoch 10/20\n",
      "14/14 [==============================] - 0s 24ms/step - loss: 0.0212 - val_loss: 0.0200\n",
      "Epoch 11/20\n",
      "14/14 [==============================] - 0s 25ms/step - loss: 0.0195 - val_loss: 0.0186\n",
      "Epoch 12/20\n",
      "14/14 [==============================] - 0s 26ms/step - loss: 0.0181 - val_loss: 0.0174\n",
      "Epoch 13/20\n",
      "14/14 [==============================] - 0s 24ms/step - loss: 0.0171 - val_loss: 0.0164\n",
      "Epoch 14/20\n",
      "14/14 [==============================] - 0s 26ms/step - loss: 0.0161 - val_loss: 0.0155\n",
      "Epoch 15/20\n",
      "14/14 [==============================] - 0s 25ms/step - loss: 0.0153 - val_loss: 0.0148\n",
      "Epoch 16/20\n",
      "14/14 [==============================] - 0s 23ms/step - loss: 0.0147 - val_loss: 0.0141\n",
      "Epoch 17/20\n",
      "14/14 [==============================] - 0s 24ms/step - loss: 0.0140 - val_loss: 0.0137\n",
      "Epoch 18/20\n",
      "14/14 [==============================] - 0s 25ms/step - loss: 0.0134 - val_loss: 0.0130\n",
      "Epoch 19/20\n",
      "14/14 [==============================] - 0s 24ms/step - loss: 0.0128 - val_loss: 0.0126\n",
      "Epoch 20/20\n",
      "14/14 [==============================] - 0s 24ms/step - loss: 0.0124 - val_loss: 0.0122\n"
     ]
    }
   ],
   "source": [
    "model, history = build_and_train_model(config={}, verbose=1)"
   ]
  },
  {
   "cell_type": "markdown",
   "metadata": {
    "id": "U9HzTvZ3Z-Hj"
   },
   "source": [
    "Check the validation loss of the baseline model."
   ]
  },
  {
   "cell_type": "code",
   "execution_count": 6,
   "metadata": {
    "colab": {
     "base_uri": "https://localhost:8080/"
    },
    "id": "ef8WmEYrnGwU",
    "outputId": "8e197f6c-7aeb-4550-e809-ac6f5aa097db"
   },
   "outputs": [
    {
     "data": {
      "text/plain": [
       "0.012234512716531754"
      ]
     },
     "execution_count": 6,
     "metadata": {},
     "output_type": "execute_result"
    }
   ],
   "source": [
    "history[\"val_loss\"][-1]"
   ]
  },
  {
   "cell_type": "markdown",
   "metadata": {
    "id": "NEhUJdM3aihH"
   },
   "source": [
    "Check the size of the baseline model."
   ]
  },
  {
   "cell_type": "code",
   "execution_count": 7,
   "metadata": {
    "colab": {
     "base_uri": "https://localhost:8080/"
    },
    "id": "rXgKCSxHaTyt",
    "outputId": "909c4343-1518-4ddd-aa21-7413bbee4872"
   },
   "outputs": [
    {
     "name": "stdout",
     "output_type": "stream",
     "text": [
      "Model: \"sequential\"\n",
      "_________________________________________________________________\n",
      " Layer (type)                Output Shape              Param #   \n",
      "=================================================================\n",
      " lstm (LSTM)                 (None, 8, 128)            68608     \n",
      "                                                                 \n",
      " dropout (Dropout)           (None, 8, 128)            0         \n",
      "                                                                 \n",
      " dense (Dense)               (None, 8, 5)              645       \n",
      "                                                                 \n",
      "=================================================================\n",
      "Total params: 69,253\n",
      "Trainable params: 69,253\n",
      "Non-trainable params: 0\n",
      "_________________________________________________________________\n"
     ]
    }
   ],
   "source": [
    "model.summary()"
   ]
  },
  {
   "cell_type": "markdown",
   "metadata": {
    "id": "uR-HjEcHaq8H"
   },
   "source": [
    "## Multi-objective hyperparameter optimization with DeepHyper\n",
    "The hyperparameter search space definition remains the same whether or not we have single or multiple objectives."
   ]
  },
  {
   "cell_type": "code",
   "execution_count": 8,
   "metadata": {
    "colab": {
     "base_uri": "https://localhost:8080/"
    },
    "id": "nPwN7uqIhLaX",
    "outputId": "388e71ef-4291-44cb-cb87-fe1b061cdee5"
   },
   "outputs": [
    {
     "data": {
      "text/plain": [
       "Configuration space object:\n",
       "  Hyperparameters:\n",
       "    activation, Type: Categorical, Choices: {sigmoid, tanh, relu}, Default: tanh\n",
       "    batch_size, Type: UniformInteger, Range: [2, 64], Default: 64\n",
       "    dropout_rate, Type: UniformFloat, Range: [0.0, 0.5], Default: 0.0\n",
       "    learning_rate, Type: UniformFloat, Range: [1e-05, 0.01], Default: 0.001, on log-scale\n",
       "    lstm_units, Type: UniformInteger, Range: [10, 256], Default: 128\n",
       "    num_layers, Type: UniformInteger, Range: [1, 3], Default: 1\n",
       "    recurrent_activation, Type: Categorical, Choices: {sigmoid, tanh, relu}, Default: sigmoid"
      ]
     },
     "execution_count": 8,
     "metadata": {},
     "output_type": "execute_result"
    }
   ],
   "source": [
    "from deephyper.problem import HpProblem\n",
    "\n",
    "\n",
    "problem = HpProblem()\n",
    "problem.add_hyperparameter((10, 256), \"lstm_units\", default_value=128)\n",
    "problem.add_hyperparameter([\"sigmoid\", \"tanh\", \"relu\"], \"activation\", default_value=\"tanh\")\n",
    "problem.add_hyperparameter([\"sigmoid\", \"tanh\", \"relu\"], \"recurrent_activation\", default_value=\"sigmoid\")\n",
    "problem.add_hyperparameter((1e-5, 1e-2, \"log-uniform\"), \"learning_rate\", default_value=1e-3)\n",
    "problem.add_hyperparameter((2, 64), \"batch_size\", default_value=64)\n",
    "problem.add_hyperparameter((0.0, 0.5), \"dropout_rate\", default_value=0.0)\n",
    "problem.add_hyperparameter((1, 3), \"num_layers\", default_value=1)\n",
    "problem"
   ]
  },
  {
   "cell_type": "markdown",
   "metadata": {
    "id": "VCba5Z3obJzt"
   },
   "source": [
    "We shall first run the original single-objective problem to motivate why we must account for multiple objectives."
   ]
  },
  {
   "cell_type": "code",
   "execution_count": 9,
   "metadata": {
    "id": "SQA9zc0OhZow"
   },
   "outputs": [],
   "source": [
    "def run(config):\n",
    "    # important to avoid memory exploision\n",
    "    tf.keras.backend.clear_session()\n",
    "    \n",
    "    model, history = build_and_train_model(config, verbose=0)\n",
    "\n",
    "    return -history[\"val_loss\"][-1]"
   ]
  },
  {
   "cell_type": "markdown",
   "metadata": {
    "id": "ZPb-UUeMbmnt"
   },
   "source": [
    "Execute deephyper's sequential Bayesian optimization search algorithm `CBO`."
   ]
  },
  {
   "cell_type": "code",
   "execution_count": 10,
   "metadata": {
    "colab": {
     "base_uri": "https://localhost:8080/",
     "height": 86,
     "referenced_widgets": [
      "c040a48dc2af42cd9a31755294710a10",
      "824716692e7e49ab9f3559ed493880e9",
      "1266ba9a0cf04b96996ae71dd0b8bfce",
      "47fb788484a94b039f5b4eb68008c121",
      "6a2c963560f04b64837c1826e78c5251",
      "ea64594500ae47f582a06c53da2cd4d0",
      "5c111386f0ed448f9ca05ce5c8ee436b",
      "2a3b32b067834e8f928f77e80fd25f84",
      "aed7992ca1b946a99490b782e0824c45",
      "3712da7414b24764ad6f206c276ce05f",
      "73b019c32d5946948c45a6b1566c1b06"
     ]
    },
    "id": "mpy_vSSBhtxy",
    "outputId": "b4707dde-8c23-402d-c5dd-01f8ad2cfe9d"
   },
   "outputs": [
    {
     "name": "stderr",
     "output_type": "stream",
     "text": [
      "/usr/local/lib/python3.7/dist-packages/deephyper/evaluator/_evaluator.py:102: UserWarning: Applying nest-asyncio patch for IPython Shell!\n",
      "  \"Applying nest-asyncio patch for IPython Shell!\", category=UserWarning\n"
     ]
    },
    {
     "data": {
      "application/vnd.jupyter.widget-view+json": {
       "model_id": "c040a48dc2af42cd9a31755294710a10",
       "version_major": 2,
       "version_minor": 0
      },
      "text/plain": [
       "  0%|          | 0/20 [00:00<?, ?it/s]"
      ]
     },
     "metadata": {},
     "output_type": "display_data"
    }
   ],
   "source": [
    "from deephyper.search.hps import CBO\n",
    "\n",
    "search = CBO(problem, run, initial_points=[problem.default_configuration], log_dir=\"cbo-results\", random_state=42)\n",
    "results = search.search(max_evals=20)"
   ]
  },
  {
   "cell_type": "markdown",
   "metadata": {
    "id": "rXB21GhfcDhM"
   },
   "source": [
    "Obtain the best configuration and check the validation loss. We expect this to have decreased since this is what we optimized for."
   ]
  },
  {
   "cell_type": "code",
   "execution_count": 11,
   "metadata": {
    "colab": {
     "base_uri": "https://localhost:8080/"
    },
    "id": "3-G0fPI3yePb",
    "outputId": "358ae072-0575-489a-f5e7-754b15f23bcd"
   },
   "outputs": [
    {
     "name": "stdout",
     "output_type": "stream",
     "text": [
      "Model: \"sequential_1\"\n",
      "_________________________________________________________________\n",
      " Layer (type)                Output Shape              Param #   \n",
      "=================================================================\n",
      " lstm_3 (LSTM)               (None, 8, 101)            43228     \n",
      "                                                                 \n",
      " dropout_3 (Dropout)         (None, 8, 101)            0         \n",
      "                                                                 \n",
      " lstm_4 (LSTM)               (None, 8, 101)            82012     \n",
      "                                                                 \n",
      " dropout_4 (Dropout)         (None, 8, 101)            0         \n",
      "                                                                 \n",
      " dense_1 (Dense)             (None, 8, 5)              510       \n",
      "                                                                 \n",
      "=================================================================\n",
      "Total params: 125,750\n",
      "Trainable params: 125,750\n",
      "Non-trainable params: 0\n",
      "_________________________________________________________________\n",
      "Epoch 1/20\n",
      "23/23 [==============================] - 6s 43ms/step - loss: 0.2258 - val_loss: 0.1924\n",
      "Epoch 2/20\n",
      "23/23 [==============================] - 1s 25ms/step - loss: 0.1371 - val_loss: 0.0880\n",
      "Epoch 3/20\n",
      "23/23 [==============================] - 1s 41ms/step - loss: 0.0583 - val_loss: 0.0334\n",
      "Epoch 4/20\n",
      "23/23 [==============================] - 1s 26ms/step - loss: 0.0244 - val_loss: 0.0178\n",
      "Epoch 5/20\n",
      "23/23 [==============================] - 1s 24ms/step - loss: 0.0143 - val_loss: 0.0122\n",
      "Epoch 6/20\n",
      "23/23 [==============================] - 1s 25ms/step - loss: 0.0097 - val_loss: 0.0086\n",
      "Epoch 7/20\n",
      "23/23 [==============================] - 1s 25ms/step - loss: 0.0077 - val_loss: 0.0067\n",
      "Epoch 8/20\n",
      "23/23 [==============================] - 1s 25ms/step - loss: 0.0062 - val_loss: 0.0063\n",
      "Epoch 9/20\n",
      "23/23 [==============================] - 1s 25ms/step - loss: 0.0056 - val_loss: 0.0060\n",
      "Epoch 10/20\n",
      "23/23 [==============================] - 1s 24ms/step - loss: 0.0054 - val_loss: 0.0049\n",
      "Epoch 11/20\n",
      "23/23 [==============================] - 1s 24ms/step - loss: 0.0049 - val_loss: 0.0045\n",
      "Epoch 12/20\n",
      "23/23 [==============================] - 1s 25ms/step - loss: 0.0047 - val_loss: 0.0044\n",
      "Epoch 13/20\n",
      "23/23 [==============================] - 1s 24ms/step - loss: 0.0042 - val_loss: 0.0039\n",
      "Epoch 14/20\n",
      "23/23 [==============================] - 1s 24ms/step - loss: 0.0043 - val_loss: 0.0042\n",
      "Epoch 15/20\n",
      "23/23 [==============================] - 1s 26ms/step - loss: 0.0041 - val_loss: 0.0041\n",
      "Epoch 16/20\n",
      "23/23 [==============================] - 1s 25ms/step - loss: 0.0040 - val_loss: 0.0038\n",
      "Epoch 17/20\n",
      "23/23 [==============================] - 1s 26ms/step - loss: 0.0038 - val_loss: 0.0034\n",
      "Epoch 18/20\n",
      "23/23 [==============================] - 1s 26ms/step - loss: 0.0035 - val_loss: 0.0035\n",
      "Epoch 19/20\n",
      "23/23 [==============================] - 1s 25ms/step - loss: 0.0035 - val_loss: 0.0033\n",
      "Epoch 20/20\n",
      "23/23 [==============================] - 1s 25ms/step - loss: 0.0034 - val_loss: 0.0033\n"
     ]
    },
    {
     "data": {
      "text/plain": [
       "0.0032578816171735525"
      ]
     },
     "execution_count": 11,
     "metadata": {},
     "output_type": "execute_result"
    }
   ],
   "source": [
    "i_max = results.objective.argmax()\n",
    "best_config = results.iloc[i_max][:-4].to_dict()\n",
    "best_model, best_history = build_and_train_model(best_config, verbose=1)\n",
    "best_history[\"val_loss\"][-1]"
   ]
  },
  {
   "cell_type": "markdown",
   "metadata": {
    "id": "jSrwoEixd3na"
   },
   "source": [
    "Now we check the model size. Note that we had not optimized this metric!"
   ]
  },
  {
   "cell_type": "code",
   "execution_count": 12,
   "metadata": {
    "colab": {
     "base_uri": "https://localhost:8080/"
    },
    "id": "fo3U3Ztoy7Vg",
    "outputId": "85a3933e-619c-48ed-b1e4-faaeee361059"
   },
   "outputs": [
    {
     "name": "stdout",
     "output_type": "stream",
     "text": [
      "Model: \"sequential_1\"\n",
      "_________________________________________________________________\n",
      " Layer (type)                Output Shape              Param #   \n",
      "=================================================================\n",
      " lstm_3 (LSTM)               (None, 8, 101)            43228     \n",
      "                                                                 \n",
      " dropout_3 (Dropout)         (None, 8, 101)            0         \n",
      "                                                                 \n",
      " lstm_4 (LSTM)               (None, 8, 101)            82012     \n",
      "                                                                 \n",
      " dropout_4 (Dropout)         (None, 8, 101)            0         \n",
      "                                                                 \n",
      " dense_1 (Dense)             (None, 8, 5)              510       \n",
      "                                                                 \n",
      "=================================================================\n",
      "Total params: 125,750\n",
      "Trainable params: 125,750\n",
      "Non-trainable params: 0\n",
      "_________________________________________________________________\n"
     ]
    }
   ],
   "source": [
    "best_model.summary()"
   ]
  },
  {
   "cell_type": "markdown",
   "metadata": {
    "id": "M9qmKEN2eGHC"
   },
   "source": [
    "We shall now minimize both the validation loss and model size. To do this, we simply modify the `run` function to return a `tuple` of objective function values that should be maximized."
   ]
  },
  {
   "cell_type": "code",
   "execution_count": 13,
   "metadata": {
    "id": "dj7hmO6Hiohx"
   },
   "outputs": [],
   "source": [
    "from keras.utils.layer_utils import count_params\n",
    "\n",
    "def run_two_objective(config):\n",
    "    # important to avoid memory exploision\n",
    "    tf.keras.backend.clear_session()\n",
    "    \n",
    "    model, history = build_and_train_model(config, verbose=0)\n",
    "\n",
    "    return -history[\"val_loss\"][-1], -count_params(model.trainable_weights)"
   ]
  },
  {
   "cell_type": "markdown",
   "metadata": {
    "id": "nzmydFpket2l"
   },
   "source": [
    "Execute deephyper's sequential Bayesian optimization search algorithm `CBO` as usual. DeepHyper automatically detects the number of objective functions and optimizes both using a default scalarization strategy. This default strategy can be changed by passing additional arguments to `CBO`.\n",
    "\n",
    "The progress bar now reports the sum of the objective functions; however, this is only for logging purposes. The objective functions have very different scales and DeepHyper internally re-scales them during the search."
   ]
  },
  {
   "cell_type": "code",
   "execution_count": 14,
   "metadata": {
    "colab": {
     "base_uri": "https://localhost:8080/",
     "height": 49,
     "referenced_widgets": [
      "1df308c0ded14e128375f653d25d7720",
      "58238d2a570345ba80de654fd211ded6",
      "66b97ad7eff14aefb7c787c4aec4a62b",
      "2ad182dad36e4ebca875f3a599788368",
      "5106becbc6004699a9ca7447277a7968",
      "dbb8951145dd4e17ad69d8af4e0d9c10",
      "851c2a94c3df4bd88e98337f14f2532c",
      "c4cd2492d74d45fb8c7ce99cbac7e9de",
      "5af14617cfbd43f6ac44acae106c51ba",
      "1d9a6a57ce51422d817194e2ee2d82d0",
      "f28651228f7240cfbf16e895fe22d712"
     ]
    },
    "id": "jBTpcF4GoP0-",
    "outputId": "3785872f-ffa1-4b98-fb1b-c8c4e122fe38"
   },
   "outputs": [
    {
     "data": {
      "application/vnd.jupyter.widget-view+json": {
       "model_id": "1df308c0ded14e128375f653d25d7720",
       "version_major": 2,
       "version_minor": 0
      },
      "text/plain": [
       "  0%|          | 0/20 [00:00<?, ?it/s]"
      ]
     },
     "metadata": {},
     "output_type": "display_data"
    }
   ],
   "source": [
    "from deephyper.search.hps import CBO\n",
    "\n",
    "search_2 = CBO(problem, run_two_objective, initial_points=[problem.default_configuration], log_dir=\"cbo-moo-results\", random_state=42)\n",
    "results_2 = search_2.search(max_evals=20)"
   ]
  },
  {
   "cell_type": "markdown",
   "metadata": {
    "id": "NjJFdZ6cfiSk"
   },
   "source": [
    "## Visualize and explore alternative configurations\n",
    "Visualize the objective space explored by DeepHyper."
   ]
  },
  {
   "cell_type": "code",
   "execution_count": 15,
   "metadata": {
    "colab": {
     "base_uri": "https://localhost:8080/",
     "height": 428
    },
    "id": "daPxJm8Cql_n",
    "outputId": "87a4fd0e-6b59-4fb0-f42a-2828d5ecc8a5"
   },
   "outputs": [
    {
     "data": {
      "image/png": "[encoded data removed]",
      "text/plain": [
       "<Figure size 432x432 with 1 Axes>"
      ]
     },
     "metadata": {
      "needs_background": "light"
     },
     "output_type": "display_data"
    }
   ],
   "source": [
    "from deephyper.skopt.moo import pareto_front, hypervolume\n",
    "\n",
    "objvals = -np.asarray(results_2.filter(regex=r\"^objective_\\d+$\").values)\n",
    "pf_vals = pareto_front(objvals)\n",
    "plt.figure(figsize=(6,6))\n",
    "plt.rcParams.update({'font.size': 16})\n",
    "plt.scatter(objvals[:, 0], objvals[:, 1], c='k', alpha=0.5, s=50)\n",
    "plt.scatter(pf_vals[:, 0], pf_vals[:, 1], c='r', alpha=0.5, s=50, label=\"Pareto front\")\n",
    "plt.scatter(history[\"val_loss\"][-1], count_params(model.trainable_weights), c='b', alpha=0.5, marker='x', s=100, label=\"Baseline\")\n",
    "plt.xlabel(\"Validation loss\")\n",
    "plt.ylabel(\"Number of model parameters\")\n",
    "plt.gca().set_yscale('log')\n",
    "plt.gca().set_xscale('log')\n",
    "plt.grid()\n",
    "plt.legend()\n",
    "plt.tight_layout()"
   ]
  },
  {
   "cell_type": "markdown",
   "metadata": {
    "id": "_HBEbtD3hbSB"
   },
   "source": [
    "Check the validation loss and model size of the pareto-optimal configurations.\n",
    "\n",
    "Observe the trade-off between model accuracy and size. A model with fewer parameters may not be as accurate as one with a larger number of parameters."
   ]
  },
  {
   "cell_type": "code",
   "execution_count": 16,
   "metadata": {
    "colab": {
     "base_uri": "https://localhost:8080/"
    },
    "id": "M_DZlBsps1Nb",
    "outputId": "dd43719b-27eb-4f1f-c0ee-bc8f591ec760"
   },
   "outputs": [
    {
     "data": {
      "text/plain": [
       "array([[1.42826010e-02, 1.05800000e+03],\n",
       "       [9.89930332e-03, 1.82300000e+03],\n",
       "       [5.22860279e-03, 1.33490000e+04],\n",
       "       [5.05022844e-03, 1.58600000e+04],\n",
       "       [4.03057551e-03, 1.85870000e+04]])"
      ]
     },
     "execution_count": 16,
     "metadata": {},
     "output_type": "execute_result"
    }
   ],
   "source": [
    "pf_vals"
   ]
  },
  {
   "cell_type": "markdown",
   "metadata": {
    "id": "x8kINjKcjC2_"
   },
   "source": [
    "We can also obtain the hyperparameter configurations which produce the pareto optimal front. These configurations constitute the non-dominated set."
   ]
  },
  {
   "cell_type": "code",
   "execution_count": 17,
   "metadata": {
    "colab": {
     "base_uri": "https://localhost:8080/",
     "height": 206
    },
    "id": "TWIo-qDSj3Or",
    "outputId": "6153a1be-d2f3-4794-a777-2ef681612a25"
   },
   "outputs": [
    {
     "data": {
      "text/html": [
       "\n",
       "  <div id=\"df-b6912e74-2452-4547-b038-42d0c845b7c8\">\n",
       "    <div class=\"colab-df-container\">\n",
       "      <div>\n",
       "<style scoped>\n",
       "    .dataframe tbody tr th:only-of-type {\n",
       "        vertical-align: middle;\n",
       "    }\n",
       "\n",
       "    .dataframe tbody tr th {\n",
       "        vertical-align: top;\n",
       "    }\n",
       "\n",
       "    .dataframe thead th {\n",
       "        text-align: right;\n",
       "    }\n",
       "</style>\n",
       "<table border=\"1\" class=\"dataframe\">\n",
       "  <thead>\n",
       "    <tr style=\"text-align: right;\">\n",
       "      <th></th>\n",
       "      <th>activation</th>\n",
       "      <th>batch_size</th>\n",
       "      <th>dropout_rate</th>\n",
       "      <th>learning_rate</th>\n",
       "      <th>lstm_units</th>\n",
       "      <th>num_layers</th>\n",
       "      <th>recurrent_activation</th>\n",
       "      <th>job_id</th>\n",
       "      <th>objective_0</th>\n",
       "      <th>objective_1</th>\n",
       "      <th>timestamp_submit</th>\n",
       "      <th>timestamp_gather</th>\n",
       "    </tr>\n",
       "  </thead>\n",
       "  <tbody>\n",
       "    <tr>\n",
       "      <th>12</th>\n",
       "      <td>tanh</td>\n",
       "      <td>26</td>\n",
       "      <td>0.148193</td>\n",
       "      <td>0.000692</td>\n",
       "      <td>13</td>\n",
       "      <td>1</td>\n",
       "      <td>tanh</td>\n",
       "      <td>13</td>\n",
       "      <td>-0.014283</td>\n",
       "      <td>-1058</td>\n",
       "      <td>411.430053</td>\n",
       "      <td>417.529419</td>\n",
       "    </tr>\n",
       "    <tr>\n",
       "      <th>11</th>\n",
       "      <td>tanh</td>\n",
       "      <td>6</td>\n",
       "      <td>0.381396</td>\n",
       "      <td>0.000435</td>\n",
       "      <td>18</td>\n",
       "      <td>1</td>\n",
       "      <td>tanh</td>\n",
       "      <td>12</td>\n",
       "      <td>-0.009899</td>\n",
       "      <td>-1823</td>\n",
       "      <td>396.198755</td>\n",
       "      <td>410.189806</td>\n",
       "    </tr>\n",
       "    <tr>\n",
       "      <th>18</th>\n",
       "      <td>tanh</td>\n",
       "      <td>32</td>\n",
       "      <td>0.211649</td>\n",
       "      <td>0.002924</td>\n",
       "      <td>32</td>\n",
       "      <td>2</td>\n",
       "      <td>tanh</td>\n",
       "      <td>19</td>\n",
       "      <td>-0.005229</td>\n",
       "      <td>-13349</td>\n",
       "      <td>508.394228</td>\n",
       "      <td>517.806289</td>\n",
       "    </tr>\n",
       "    <tr>\n",
       "      <th>15</th>\n",
       "      <td>tanh</td>\n",
       "      <td>25</td>\n",
       "      <td>0.089128</td>\n",
       "      <td>0.001632</td>\n",
       "      <td>35</td>\n",
       "      <td>2</td>\n",
       "      <td>tanh</td>\n",
       "      <td>16</td>\n",
       "      <td>-0.005050</td>\n",
       "      <td>-15860</td>\n",
       "      <td>439.494456</td>\n",
       "      <td>463.468255</td>\n",
       "    </tr>\n",
       "    <tr>\n",
       "      <th>17</th>\n",
       "      <td>tanh</td>\n",
       "      <td>7</td>\n",
       "      <td>0.186724</td>\n",
       "      <td>0.001377</td>\n",
       "      <td>38</td>\n",
       "      <td>2</td>\n",
       "      <td>tanh</td>\n",
       "      <td>18</td>\n",
       "      <td>-0.004031</td>\n",
       "      <td>-18587</td>\n",
       "      <td>476.671989</td>\n",
       "      <td>507.119761</td>\n",
       "    </tr>\n",
       "  </tbody>\n",
       "</table>\n",
       "</div>\n",
       "      <button class=\"colab-df-convert\" onclick=\"convertToInteractive('df-b6912e74-2452-4547-b038-42d0c845b7c8')\"\n",
       "              title=\"Convert this dataframe to an interactive table.\"\n",
       "              style=\"display:none;\">\n",
       "        \n",
       "  <svg xmlns=\"http://www.w3.org/2000/svg\" height=\"24px\"viewBox=\"0 0 24 24\"\n",
       "       width=\"24px\">\n",
       "    <path d=\"M0 0h24v24H0V0z\" fill=\"none\"/>\n",
       "    <path d=\"M18.56 5.44l.94 2.06.94-2.06 2.06-.94-2.06-.94-.94-2.06-.94 2.06-2.06.94zm-11 1L8.5 8.5l.94-2.06 2.06-.94-2.06-.94L8.5 2.5l-.94 2.06-2.06.94zm10 10l.94 2.06.94-2.06 2.06-.94-2.06-.94-.94-2.06-.94 2.06-2.06.94z\"/><path d=\"M17.41 7.96l-1.37-1.37c-.4-.4-.92-.59-1.43-.59-.52 0-1.04.2-1.43.59L10.3 9.45l-7.72 7.72c-.78.78-.78 2.05 0 2.83L4 21.41c.39.39.9.59 1.41.59.51 0 1.02-.2 1.41-.59l7.78-7.78 2.81-2.81c.8-.78.8-2.07 0-2.86zM5.41 20L4 18.59l7.72-7.72 1.47 1.35L5.41 20z\"/>\n",
       "  </svg>\n",
       "      </button>\n",
       "      \n",
       "  <style>\n",
       "    .colab-df-container {\n",
       "      display:flex;\n",
       "      flex-wrap:wrap;\n",
       "      gap: 12px;\n",
       "    }\n",
       "\n",
       "    .colab-df-convert {\n",
       "      background-color: #E8F0FE;\n",
       "      border: none;\n",
       "      border-radius: 50%;\n",
       "      cursor: pointer;\n",
       "      display: none;\n",
       "      fill: #1967D2;\n",
       "      height: 32px;\n",
       "      padding: 0 0 0 0;\n",
       "      width: 32px;\n",
       "    }\n",
       "\n",
       "    .colab-df-convert:hover {\n",
       "      background-color: #E2EBFA;\n",
       "      box-shadow: 0px 1px 2px rgba(60, 64, 67, 0.3), 0px 1px 3px 1px rgba(60, 64, 67, 0.15);\n",
       "      fill: #174EA6;\n",
       "    }\n",
       "\n",
       "    [theme=dark] .colab-df-convert {\n",
       "      background-color: #3B4455;\n",
       "      fill: #D2E3FC;\n",
       "    }\n",
       "\n",
       "    [theme=dark] .colab-df-convert:hover {\n",
       "      background-color: #434B5C;\n",
       "      box-shadow: 0px 1px 3px 1px rgba(0, 0, 0, 0.15);\n",
       "      filter: drop-shadow(0px 1px 2px rgba(0, 0, 0, 0.3));\n",
       "      fill: #FFFFFF;\n",
       "    }\n",
       "  </style>\n",
       "\n",
       "      <script>\n",
       "        const buttonEl =\n",
       "          document.querySelector('#df-b6912e74-2452-4547-b038-42d0c845b7c8 button.colab-df-convert');\n",
       "        buttonEl.style.display =\n",
       "          google.colab.kernel.accessAllowed ? 'block' : 'none';\n",
       "\n",
       "        async function convertToInteractive(key) {\n",
       "          const element = document.querySelector('#df-b6912e74-2452-4547-b038-42d0c845b7c8');\n",
       "          const dataTable =\n",
       "            await google.colab.kernel.invokeFunction('convertToInteractive',\n",
       "                                                     [key], {});\n",
       "          if (!dataTable) return;\n",
       "\n",
       "          const docLinkHtml = 'Like what you see? Visit the ' +\n",
       "            '<a target=\"_blank\" href=https://colab.research.google.com/notebooks/data_table.ipynb>data table notebook</a>'\n",
       "            + ' to learn more about interactive tables.';\n",
       "          element.innerHTML = '';\n",
       "          dataTable['output_type'] = 'display_data';\n",
       "          await google.colab.output.renderOutput(dataTable, element);\n",
       "          const docLink = document.createElement('div');\n",
       "          docLink.innerHTML = docLinkHtml;\n",
       "          element.appendChild(docLink);\n",
       "        }\n",
       "      </script>\n",
       "    </div>\n",
       "  </div>\n",
       "  "
      ],
      "text/plain": [
       "   activation  batch_size  dropout_rate  learning_rate  lstm_units  \\\n",
       "12       tanh          26      0.148193       0.000692          13   \n",
       "11       tanh           6      0.381396       0.000435          18   \n",
       "18       tanh          32      0.211649       0.002924          32   \n",
       "15       tanh          25      0.089128       0.001632          35   \n",
       "17       tanh           7      0.186724       0.001377          38   \n",
       "\n",
       "    num_layers recurrent_activation  job_id  objective_0  objective_1  \\\n",
       "12           1                 tanh      13    -0.014283        -1058   \n",
       "11           1                 tanh      12    -0.009899        -1823   \n",
       "18           2                 tanh      19    -0.005229       -13349   \n",
       "15           2                 tanh      16    -0.005050       -15860   \n",
       "17           2                 tanh      18    -0.004031       -18587   \n",
       "\n",
       "    timestamp_submit  timestamp_gather  \n",
       "12        411.430053        417.529419  \n",
       "11        396.198755        410.189806  \n",
       "18        508.394228        517.806289  \n",
       "15        439.494456        463.468255  \n",
       "17        476.671989        507.119761  "
      ]
     },
     "execution_count": 17,
     "metadata": {},
     "output_type": "execute_result"
    }
   ],
   "source": [
    "from deephyper.skopt.moo import non_dominated_set\n",
    "\n",
    "nds = non_dominated_set(objvals, return_mask=False)\n",
    "non_dominated_configurations = results_2.iloc[nds]\n",
    "non_dominated_configurations"
   ]
  },
  {
   "cell_type": "markdown",
   "metadata": {
    "id": "NTyqIqJUk4Bl"
   },
   "source": [
    "## Multiobjective optimization in further detail (Time permitting)\n",
    "By default, DeepHyper uses a fixed scalarization that weights all objectives equally. It is possible to override this behaviour to explore multiple combinations of weight preferences simultaneously. To demonstrate this, we will use the well-known \"Fleming-Fonseca\" benchmark test function in multi-objective optimization (see https://en.wikipedia.org/wiki/Test_functions_for_optimization#Test_functions_for_multi-objective_optimization)."
   ]
  },
  {
   "cell_type": "code",
   "execution_count": 18,
   "metadata": {
    "id": "Bn3z2OY8n1YJ"
   },
   "outputs": [],
   "source": [
    "nb_obj = 2\n",
    "nb_dim = 3\n",
    "test_problem = HpProblem()\n",
    "for i in range(nb_dim):\n",
    "    test_problem.add_hyperparameter((-4.0, 4.0), f\"x{i}\")\n",
    "\n",
    "def test_func(x):\n",
    "    f = np.zeros(nb_obj)\n",
    "\n",
    "    f[0] = 1 - np.exp(-np.sum(np.square(x - 1 / np.sqrt(nb_dim)), axis=-1))\n",
    "    f[1] = 1 - np.exp(-np.sum(np.square(x + 1 / np.sqrt(nb_dim)), axis=-1))\n",
    "\n",
    "    return tuple(-f)\n",
    "\n",
    "def run_test_func(config):\n",
    "    x = np.array([config[k] for k in config if \"x\" in k])\n",
    "    x = np.asarray_chkfinite(x)\n",
    "    y = test_func(x)\n",
    "    return y"
   ]
  },
  {
   "cell_type": "markdown",
   "metadata": {
    "id": "P4qCLDKurG-p"
   },
   "source": [
    "Execute the sequential bayesian optimization function. Note that we use a `GP` as the surrogate since we're working with a continuous problem."
   ]
  },
  {
   "cell_type": "code",
   "execution_count": 19,
   "metadata": {
    "colab": {
     "base_uri": "https://localhost:8080/",
     "height": 49,
     "referenced_widgets": [
      "fba4602286c246258bce561de0b900b0",
      "022a9116f006440e9d6d8a2d5ebb4ff2",
      "ca478f012fea4cf4bd9565632f9d33fc",
      "442b918a343d455ba9b9bdc996c89bf8",
      "795578949ced48c8ab1fa9f3fc395776",
      "070be875dca94da6b6163c3d5c032404",
      "01fd5baf4cef494bb9b6b4548c09cb09",
      "bf4ab00f3ae949b3a7b1c6b00ba6be88",
      "677af83ca7cf456da36e81b5484c5bbc",
      "ac9fabf748ef4584bb2eb4c5551108cd",
      "066d29399e0f41f0921f6cfb0143b28e"
     ]
    },
    "id": "jIpnbrEcptYf",
    "outputId": "265c2769-4325-4457-8b49-1f0fcb6b7364"
   },
   "outputs": [
    {
     "data": {
      "application/vnd.jupyter.widget-view+json": {
       "model_id": "fba4602286c246258bce561de0b900b0",
       "version_major": 2,
       "version_minor": 0
      },
      "text/plain": [
       "  0%|          | 0/100 [00:00<?, ?it/s]"
      ]
     },
     "metadata": {},
     "output_type": "display_data"
    }
   ],
   "source": [
    "search_test_func = CBO(test_problem, run_test_func, surrogate_model=\"GP\", log_dir=\"cbo-test-func-results\", random_state=42)\n",
    "results_test_func = search_test_func.search(max_evals=100)"
   ]
  },
  {
   "cell_type": "markdown",
   "metadata": {
    "id": "WGP1C-YCsPHZ"
   },
   "source": [
    "Visualize the objective space explored by the default DeepHyper scalarization."
   ]
  },
  {
   "cell_type": "code",
   "execution_count": 22,
   "metadata": {
    "colab": {
     "base_uri": "https://localhost:8080/",
     "height": 428
    },
    "id": "QhV9Fmf_rcNA",
    "outputId": "19dd7481-b3d1-4514-f740-9b8c212847e1"
   },
   "outputs": [
    {
     "data": {
      "image/png": "[encoded data removed]",
      "text/plain": [
       "<Figure size 432x432 with 1 Axes>"
      ]
     },
     "metadata": {
      "needs_background": "light"
     },
     "output_type": "display_data"
    }
   ],
   "source": [
    "def plot_objective_space(results):\n",
    "    fv = -np.asarray(results.filter(regex=r\"^objective_\\d+$\").values)\n",
    "    pf = pareto_front(fv)\n",
    "    plt.figure(figsize=(6,6))\n",
    "    plt.rcParams.update({'font.size': 16})\n",
    "    plt.scatter(fv[:, 0], fv[:, 1], c='k', alpha=0.5, s=50)\n",
    "    plt.scatter(pf[:, 0], pf[:, 1], c='r', alpha=0.5, s=50, label=\"Pareto front\")\n",
    "    plt.xlabel(\"Objective 1\")\n",
    "    plt.ylabel(\"Objective 2\")\n",
    "    plt.gca().set_xlim([0, 1])\n",
    "    plt.gca().set_ylim([0, 1])\n",
    "    plt.grid()\n",
    "    plt.legend()\n",
    "    plt.tight_layout()\n",
    "plot_objective_space(results_test_func)"
   ]
  },
  {
   "cell_type": "markdown",
   "metadata": {
    "id": "ga86zyy2sVI4"
   },
   "source": [
    "Change the scalarization strategy to one that uses multiple weight vectors to scalarize the objective functions."
   ]
  },
  {
   "cell_type": "code",
   "execution_count": 23,
   "metadata": {
    "colab": {
     "base_uri": "https://localhost:8080/",
     "height": 49,
     "referenced_widgets": [
      "a5aa3f26795a4a9db6c4bcdf03a67445",
      "93403ba7fbd145f39aec48b06676fc89",
      "6e88746540634b5da0ad23c2a255ea7c",
      "4229e71a0a3b48999e3c0bc2f37fefaf",
      "e306b7d0e8724356b643e890cf06c621",
      "daf22d4e3b3c45c8887eddd912d5ba61",
      "556dc804e6bb49dabb6dad0824739bdf",
      "9e8c360000464716a0fa70ce3b485cc0",
      "d95a6ffb3d244b539042c518c9ffa42e",
      "7896189ebadb4304b76e2fbfe751db8a",
      "996a10bb558b48599bda5b4a8a925d29"
     ]
    },
    "id": "NViQL6W_sh7R",
    "outputId": "6b6fc562-e38e-411c-f763-ec8a41365dc0"
   },
   "outputs": [
    {
     "data": {
      "application/vnd.jupyter.widget-view+json": {
       "model_id": "a5aa3f26795a4a9db6c4bcdf03a67445",
       "version_major": 2,
       "version_minor": 0
      },
      "text/plain": [
       "  0%|          | 0/100 [00:00<?, ?it/s]"
      ]
     },
     "metadata": {},
     "output_type": "display_data"
    }
   ],
   "source": [
    "search_test_func_2 = CBO(test_problem, run_test_func, surrogate_model=\"GP\", moo_scalarization_strategy=\"rChebyshev\", log_dir=\"cbo-test-func-2-results\", random_state=42)\n",
    "results_test_func_2 = search_test_func_2.search(max_evals=100)"
   ]
  },
  {
   "cell_type": "markdown",
   "metadata": {
    "id": "LwitxwPutMI9"
   },
   "source": [
    "Let us again visualize the objectives explored by DeepHyper and note how the pareto front is more exhaustively explored in this case."
   ]
  },
  {
   "cell_type": "code",
   "execution_count": 24,
   "metadata": {
    "colab": {
     "base_uri": "https://localhost:8080/",
     "height": 428
    },
    "id": "jeTkdlN6tJPJ",
    "outputId": "310555d9-6ba4-4761-d8d1-ecd9bd3c35b3"
   },
   "outputs": [
    {
     "data": {
      "image/png": "[encoded data removed]",
      "text/plain": [
       "<Figure size 432x432 with 1 Axes>"
      ]
     },
     "metadata": {
      "needs_background": "light"
     },
     "output_type": "display_data"
    }
   ],
   "source": [
    "plot_objective_space(results_test_func_2)"
   ]
  }
 ],
 "metadata": {
  "accelerator": "TPU",
  "colab": {
   "collapsed_sections": [],
   "name": "5-Multi-Objectives-Hyperparameter-Search.ipynb",
   "provenance": []
  },
  "gpuClass": "standard",
  "kernelspec": {
   "display_name": "Python 3 (ipykernel)",
   "language": "python",
   "name": "python3"
  },
  "language_info": {
   "codemirror_mode": {
    "name": "ipython",
    "version": 3
   },
   "file_extension": ".py",
   "mimetype": "text/x-python",
   "name": "python",
   "nbconvert_exporter": "python",
   "pygments_lexer": "ipython3",
   "version": "3.8.13"
  },
  "vscode": {
   "interpreter": {
    "hash": "8f7aa5824e6ca9d379f74664a810268ab519ecb598367c3fa859d49ffea41aaf"
   }
  },
  "widgets": {
   "application/vnd.jupyter.widget-state+json": {
    "01fd5baf4cef494bb9b6b4548c09cb09": {
     "model_module": "@jupyter-widgets/controls",
     "model_module_version": "1.5.0",
     "model_name": "DescriptionStyleModel",
     "state": {
      "_model_module": "@jupyter-widgets/controls",
      "_model_module_version": "1.5.0",
      "_model_name": "DescriptionStyleModel",
      "_view_count": null,
      "_view_module": "@jupyter-widgets/base",
      "_view_module_version": "1.2.0",
      "_view_name": "StyleView",
      "description_width": ""
     }
    },
    "022a9116f006440e9d6d8a2d5ebb4ff2": {
     "model_module": "@jupyter-widgets/controls",
     "model_module_version": "1.5.0",
     "model_name": "HTMLModel",
     "state": {
      "_dom_classes": [],
      "_model_module": "@jupyter-widgets/controls",
      "_model_module_version": "1.5.0",
      "_model_name": "HTMLModel",
      "_view_count": null,
      "_view_module": "@jupyter-widgets/controls",
      "_view_module_version": "1.5.0",
      "_view_name": "HTMLView",
      "description": "",
      "description_tooltip": null,
      "layout": "IPY_MODEL_070be875dca94da6b6163c3d5c032404",
      "placeholder": "​",
      "style": "IPY_MODEL_01fd5baf4cef494bb9b6b4548c09cb09",
      "value": "100%"
     }
    },
    "066d29399e0f41f0921f6cfb0143b28e": {
     "model_module": "@jupyter-widgets/controls",
     "model_module_version": "1.5.0",
     "model_name": "DescriptionStyleModel",
     "state": {
      "_model_module": "@jupyter-widgets/controls",
      "_model_module_version": "1.5.0",
      "_model_name": "DescriptionStyleModel",
      "_view_count": null,
      "_view_module": "@jupyter-widgets/base",
      "_view_module_version": "1.2.0",
      "_view_name": "StyleView",
      "description_width": ""
     }
    },
    "070be875dca94da6b6163c3d5c032404": {
     "model_module": "@jupyter-widgets/base",
     "model_module_version": "1.2.0",
     "model_name": "LayoutModel",
     "state": {
      "_model_module": "@jupyter-widgets/base",
      "_model_module_version": "1.2.0",
      "_model_name": "LayoutModel",
      "_view_count": null,
      "_view_module": "@jupyter-widgets/base",
      "_view_module_version": "1.2.0",
      "_view_name": "LayoutView",
      "align_content": null,
      "align_items": null,
      "align_self": null,
      "border": null,
      "bottom": null,
      "display": null,
      "flex": null,
      "flex_flow": null,
      "grid_area": null,
      "grid_auto_columns": null,
      "grid_auto_flow": null,
      "grid_auto_rows": null,
      "grid_column": null,
      "grid_gap": null,
      "grid_row": null,
      "grid_template_areas": null,
      "grid_template_columns": null,
      "grid_template_rows": null,
      "height": null,
      "justify_content": null,
      "justify_items": null,
      "left": null,
      "margin": null,
      "max_height": null,
      "max_width": null,
      "min_height": null,
      "min_width": null,
      "object_fit": null,
      "object_position": null,
      "order": null,
      "overflow": null,
      "overflow_x": null,
      "overflow_y": null,
      "padding": null,
      "right": null,
      "top": null,
      "visibility": null,
      "width": null
     }
    },
    "1266ba9a0cf04b96996ae71dd0b8bfce": {
     "model_module": "@jupyter-widgets/controls",
     "model_module_version": "1.5.0",
     "model_name": "FloatProgressModel",
     "state": {
      "_dom_classes": [],
      "_model_module": "@jupyter-widgets/controls",
      "_model_module_version": "1.5.0",
      "_model_name": "FloatProgressModel",
      "_view_count": null,
      "_view_module": "@jupyter-widgets/controls",
      "_view_module_version": "1.5.0",
      "_view_name": "ProgressView",
      "bar_style": "",
      "description": "",
      "description_tooltip": null,
      "layout": "IPY_MODEL_2a3b32b067834e8f928f77e80fd25f84",
      "max": 20,
      "min": 0,
      "orientation": "horizontal",
      "style": "IPY_MODEL_aed7992ca1b946a99490b782e0824c45",
      "value": 20
     }
    },
    "1d9a6a57ce51422d817194e2ee2d82d0": {
     "model_module": "@jupyter-widgets/base",
     "model_module_version": "1.2.0",
     "model_name": "LayoutModel",
     "state": {
      "_model_module": "@jupyter-widgets/base",
      "_model_module_version": "1.2.0",
      "_model_name": "LayoutModel",
      "_view_count": null,
      "_view_module": "@jupyter-widgets/base",
      "_view_module_version": "1.2.0",
      "_view_name": "LayoutView",
      "align_content": null,
      "align_items": null,
      "align_self": null,
      "border": null,
      "bottom": null,
      "display": null,
      "flex": null,
      "flex_flow": null,
      "grid_area": null,
      "grid_auto_columns": null,
      "grid_auto_flow": null,
      "grid_auto_rows": null,
      "grid_column": null,
      "grid_gap": null,
      "grid_row": null,
      "grid_template_areas": null,
      "grid_template_columns": null,
      "grid_template_rows": null,
      "height": null,
      "justify_content": null,
      "justify_items": null,
      "left": null,
      "margin": null,
      "max_height": null,
      "max_width": null,
      "min_height": null,
      "min_width": null,
      "object_fit": null,
      "object_position": null,
      "order": null,
      "overflow": null,
      "overflow_x": null,
      "overflow_y": null,
      "padding": null,
      "right": null,
      "top": null,
      "visibility": null,
      "width": null
     }
    },
    "1df308c0ded14e128375f653d25d7720": {
     "model_module": "@jupyter-widgets/controls",
     "model_module_version": "1.5.0",
     "model_name": "HBoxModel",
     "state": {
      "_dom_classes": [],
      "_model_module": "@jupyter-widgets/controls",
      "_model_module_version": "1.5.0",
      "_model_name": "HBoxModel",
      "_view_count": null,
      "_view_module": "@jupyter-widgets/controls",
      "_view_module_version": "1.5.0",
      "_view_name": "HBoxView",
      "box_style": "",
      "children": [
       "IPY_MODEL_58238d2a570345ba80de654fd211ded6",
       "IPY_MODEL_66b97ad7eff14aefb7c787c4aec4a62b",
       "IPY_MODEL_2ad182dad36e4ebca875f3a599788368"
      ],
      "layout": "IPY_MODEL_5106becbc6004699a9ca7447277a7968"
     }
    },
    "2a3b32b067834e8f928f77e80fd25f84": {
     "model_module": "@jupyter-widgets/base",
     "model_module_version": "1.2.0",
     "model_name": "LayoutModel",
     "state": {
      "_model_module": "@jupyter-widgets/base",
      "_model_module_version": "1.2.0",
      "_model_name": "LayoutModel",
      "_view_count": null,
      "_view_module": "@jupyter-widgets/base",
      "_view_module_version": "1.2.0",
      "_view_name": "LayoutView",
      "align_content": null,
      "align_items": null,
      "align_self": null,
      "border": null,
      "bottom": null,
      "display": null,
      "flex": null,
      "flex_flow": null,
      "grid_area": null,
      "grid_auto_columns": null,
      "grid_auto_flow": null,
      "grid_auto_rows": null,
      "grid_column": null,
      "grid_gap": null,
      "grid_row": null,
      "grid_template_areas": null,
      "grid_template_columns": null,
      "grid_template_rows": null,
      "height": null,
      "justify_content": null,
      "justify_items": null,
      "left": null,
      "margin": null,
      "max_height": null,
      "max_width": null,
      "min_height": null,
      "min_width": null,
      "object_fit": null,
      "object_position": null,
      "order": null,
      "overflow": null,
      "overflow_x": null,
      "overflow_y": null,
      "padding": null,
      "right": null,
      "top": null,
      "visibility": null,
      "width": null
     }
    },
    "2ad182dad36e4ebca875f3a599788368": {
     "model_module": "@jupyter-widgets/controls",
     "model_module_version": "1.5.0",
     "model_name": "HTMLModel",
     "state": {
      "_dom_classes": [],
      "_model_module": "@jupyter-widgets/controls",
      "_model_module_version": "1.5.0",
      "_model_name": "HTMLModel",
      "_view_count": null,
      "_view_module": "@jupyter-widgets/controls",
      "_view_module_version": "1.5.0",
      "_view_name": "HTMLView",
      "description": "",
      "description_tooltip": null,
      "layout": "IPY_MODEL_1d9a6a57ce51422d817194e2ee2d82d0",
      "placeholder": "​",
      "style": "IPY_MODEL_f28651228f7240cfbf16e895fe22d712",
      "value": " 20/20 [09:13&lt;00:00, 26.53s/it, failures=0, sum(objective)=-1.06e+3]"
     }
    },
    "3712da7414b24764ad6f206c276ce05f": {
     "model_module": "@jupyter-widgets/base",
     "model_module_version": "1.2.0",
     "model_name": "LayoutModel",
     "state": {
      "_model_module": "@jupyter-widgets/base",
      "_model_module_version": "1.2.0",
      "_model_name": "LayoutModel",
      "_view_count": null,
      "_view_module": "@jupyter-widgets/base",
      "_view_module_version": "1.2.0",
      "_view_name": "LayoutView",
      "align_content": null,
      "align_items": null,
      "align_self": null,
      "border": null,
      "bottom": null,
      "display": null,
      "flex": null,
      "flex_flow": null,
      "grid_area": null,
      "grid_auto_columns": null,
      "grid_auto_flow": null,
      "grid_auto_rows": null,
      "grid_column": null,
      "grid_gap": null,
      "grid_row": null,
      "grid_template_areas": null,
      "grid_template_columns": null,
      "grid_template_rows": null,
      "height": null,
      "justify_content": null,
      "justify_items": null,
      "left": null,
      "margin": null,
      "max_height": null,
      "max_width": null,
      "min_height": null,
      "min_width": null,
      "object_fit": null,
      "object_position": null,
      "order": null,
      "overflow": null,
      "overflow_x": null,
      "overflow_y": null,
      "padding": null,
      "right": null,
      "top": null,
      "visibility": null,
      "width": null
     }
    },
    "4229e71a0a3b48999e3c0bc2f37fefaf": {
     "model_module": "@jupyter-widgets/controls",
     "model_module_version": "1.5.0",
     "model_name": "HTMLModel",
     "state": {
      "_dom_classes": [],
      "_model_module": "@jupyter-widgets/controls",
      "_model_module_version": "1.5.0",
      "_model_name": "HTMLModel",
      "_view_count": null,
      "_view_module": "@jupyter-widgets/controls",
      "_view_module_version": "1.5.0",
      "_view_name": "HTMLView",
      "description": "",
      "description_tooltip": null,
      "layout": "IPY_MODEL_7896189ebadb4304b76e2fbfe751db8a",
      "placeholder": "​",
      "style": "IPY_MODEL_996a10bb558b48599bda5b4a8a925d29",
      "value": " 100/100 [02:35&lt;00:00,  3.15s/it, failures=0, sum(objective)=-.981]"
     }
    },
    "442b918a343d455ba9b9bdc996c89bf8": {
     "model_module": "@jupyter-widgets/controls",
     "model_module_version": "1.5.0",
     "model_name": "HTMLModel",
     "state": {
      "_dom_classes": [],
      "_model_module": "@jupyter-widgets/controls",
      "_model_module_version": "1.5.0",
      "_model_name": "HTMLModel",
      "_view_count": null,
      "_view_module": "@jupyter-widgets/controls",
      "_view_module_version": "1.5.0",
      "_view_name": "HTMLView",
      "description": "",
      "description_tooltip": null,
      "layout": "IPY_MODEL_ac9fabf748ef4584bb2eb4c5551108cd",
      "placeholder": "​",
      "style": "IPY_MODEL_066d29399e0f41f0921f6cfb0143b28e",
      "value": " 100/100 [02:17&lt;00:00,  2.15s/it, failures=0, sum(objective)=-1.21]"
     }
    },
    "47fb788484a94b039f5b4eb68008c121": {
     "model_module": "@jupyter-widgets/controls",
     "model_module_version": "1.5.0",
     "model_name": "HTMLModel",
     "state": {
      "_dom_classes": [],
      "_model_module": "@jupyter-widgets/controls",
      "_model_module_version": "1.5.0",
      "_model_name": "HTMLModel",
      "_view_count": null,
      "_view_module": "@jupyter-widgets/controls",
      "_view_module_version": "1.5.0",
      "_view_name": "HTMLView",
      "description": "",
      "description_tooltip": null,
      "layout": "IPY_MODEL_3712da7414b24764ad6f206c276ce05f",
      "placeholder": "​",
      "style": "IPY_MODEL_73b019c32d5946948c45a6b1566c1b06",
      "value": " 20/20 [08:03&lt;00:00, 16.18s/it, failures=0, objective=-.00326]"
     }
    },
    "5106becbc6004699a9ca7447277a7968": {
     "model_module": "@jupyter-widgets/base",
     "model_module_version": "1.2.0",
     "model_name": "LayoutModel",
     "state": {
      "_model_module": "@jupyter-widgets/base",
      "_model_module_version": "1.2.0",
      "_model_name": "LayoutModel",
      "_view_count": null,
      "_view_module": "@jupyter-widgets/base",
      "_view_module_version": "1.2.0",
      "_view_name": "LayoutView",
      "align_content": null,
      "align_items": null,
      "align_self": null,
      "border": null,
      "bottom": null,
      "display": null,
      "flex": null,
      "flex_flow": null,
      "grid_area": null,
      "grid_auto_columns": null,
      "grid_auto_flow": null,
      "grid_auto_rows": null,
      "grid_column": null,
      "grid_gap": null,
      "grid_row": null,
      "grid_template_areas": null,
      "grid_template_columns": null,
      "grid_template_rows": null,
      "height": null,
      "justify_content": null,
      "justify_items": null,
      "left": null,
      "margin": null,
      "max_height": null,
      "max_width": null,
      "min_height": null,
      "min_width": null,
      "object_fit": null,
      "object_position": null,
      "order": null,
      "overflow": null,
      "overflow_x": null,
      "overflow_y": null,
      "padding": null,
      "right": null,
      "top": null,
      "visibility": null,
      "width": null
     }
    },
    "556dc804e6bb49dabb6dad0824739bdf": {
     "model_module": "@jupyter-widgets/controls",
     "model_module_version": "1.5.0",
     "model_name": "DescriptionStyleModel",
     "state": {
      "_model_module": "@jupyter-widgets/controls",
      "_model_module_version": "1.5.0",
      "_model_name": "DescriptionStyleModel",
      "_view_count": null,
      "_view_module": "@jupyter-widgets/base",
      "_view_module_version": "1.2.0",
      "_view_name": "StyleView",
      "description_width": ""
     }
    },
    "58238d2a570345ba80de654fd211ded6": {
     "model_module": "@jupyter-widgets/controls",
     "model_module_version": "1.5.0",
     "model_name": "HTMLModel",
     "state": {
      "_dom_classes": [],
      "_model_module": "@jupyter-widgets/controls",
      "_model_module_version": "1.5.0",
      "_model_name": "HTMLModel",
      "_view_count": null,
      "_view_module": "@jupyter-widgets/controls",
      "_view_module_version": "1.5.0",
      "_view_name": "HTMLView",
      "description": "",
      "description_tooltip": null,
      "layout": "IPY_MODEL_dbb8951145dd4e17ad69d8af4e0d9c10",
      "placeholder": "​",
      "style": "IPY_MODEL_851c2a94c3df4bd88e98337f14f2532c",
      "value": "100%"
     }
    },
    "5af14617cfbd43f6ac44acae106c51ba": {
     "model_module": "@jupyter-widgets/controls",
     "model_module_version": "1.5.0",
     "model_name": "ProgressStyleModel",
     "state": {
      "_model_module": "@jupyter-widgets/controls",
      "_model_module_version": "1.5.0",
      "_model_name": "ProgressStyleModel",
      "_view_count": null,
      "_view_module": "@jupyter-widgets/base",
      "_view_module_version": "1.2.0",
      "_view_name": "StyleView",
      "bar_color": null,
      "description_width": ""
     }
    },
    "5c111386f0ed448f9ca05ce5c8ee436b": {
     "model_module": "@jupyter-widgets/controls",
     "model_module_version": "1.5.0",
     "model_name": "DescriptionStyleModel",
     "state": {
      "_model_module": "@jupyter-widgets/controls",
      "_model_module_version": "1.5.0",
      "_model_name": "DescriptionStyleModel",
      "_view_count": null,
      "_view_module": "@jupyter-widgets/base",
      "_view_module_version": "1.2.0",
      "_view_name": "StyleView",
      "description_width": ""
     }
    },
    "66b97ad7eff14aefb7c787c4aec4a62b": {
     "model_module": "@jupyter-widgets/controls",
     "model_module_version": "1.5.0",
     "model_name": "FloatProgressModel",
     "state": {
      "_dom_classes": [],
      "_model_module": "@jupyter-widgets/controls",
      "_model_module_version": "1.5.0",
      "_model_name": "FloatProgressModel",
      "_view_count": null,
      "_view_module": "@jupyter-widgets/controls",
      "_view_module_version": "1.5.0",
      "_view_name": "ProgressView",
      "bar_style": "",
      "description": "",
      "description_tooltip": null,
      "layout": "IPY_MODEL_c4cd2492d74d45fb8c7ce99cbac7e9de",
      "max": 20,
      "min": 0,
      "orientation": "horizontal",
      "style": "IPY_MODEL_5af14617cfbd43f6ac44acae106c51ba",
      "value": 20
     }
    },
    "677af83ca7cf456da36e81b5484c5bbc": {
     "model_module": "@jupyter-widgets/controls",
     "model_module_version": "1.5.0",
     "model_name": "ProgressStyleModel",
     "state": {
      "_model_module": "@jupyter-widgets/controls",
      "_model_module_version": "1.5.0",
      "_model_name": "ProgressStyleModel",
      "_view_count": null,
      "_view_module": "@jupyter-widgets/base",
      "_view_module_version": "1.2.0",
      "_view_name": "StyleView",
      "bar_color": null,
      "description_width": ""
     }
    },
    "6a2c963560f04b64837c1826e78c5251": {
     "model_module": "@jupyter-widgets/base",
     "model_module_version": "1.2.0",
     "model_name": "LayoutModel",
     "state": {
      "_model_module": "@jupyter-widgets/base",
      "_model_module_version": "1.2.0",
      "_model_name": "LayoutModel",
      "_view_count": null,
      "_view_module": "@jupyter-widgets/base",
      "_view_module_version": "1.2.0",
      "_view_name": "LayoutView",
      "align_content": null,
      "align_items": null,
      "align_self": null,
      "border": null,
      "bottom": null,
      "display": null,
      "flex": null,
      "flex_flow": null,
      "grid_area": null,
      "grid_auto_columns": null,
      "grid_auto_flow": null,
      "grid_auto_rows": null,
      "grid_column": null,
      "grid_gap": null,
      "grid_row": null,
      "grid_template_areas": null,
      "grid_template_columns": null,
      "grid_template_rows": null,
      "height": null,
      "justify_content": null,
      "justify_items": null,
      "left": null,
      "margin": null,
      "max_height": null,
      "max_width": null,
      "min_height": null,
      "min_width": null,
      "object_fit": null,
      "object_position": null,
      "order": null,
      "overflow": null,
      "overflow_x": null,
      "overflow_y": null,
      "padding": null,
      "right": null,
      "top": null,
      "visibility": null,
      "width": null
     }
    },
    "6e88746540634b5da0ad23c2a255ea7c": {
     "model_module": "@jupyter-widgets/controls",
     "model_module_version": "1.5.0",
     "model_name": "FloatProgressModel",
     "state": {
      "_dom_classes": [],
      "_model_module": "@jupyter-widgets/controls",
      "_model_module_version": "1.5.0",
      "_model_name": "FloatProgressModel",
      "_view_count": null,
      "_view_module": "@jupyter-widgets/controls",
      "_view_module_version": "1.5.0",
      "_view_name": "ProgressView",
      "bar_style": "",
      "description": "",
      "description_tooltip": null,
      "layout": "IPY_MODEL_9e8c360000464716a0fa70ce3b485cc0",
      "max": 100,
      "min": 0,
      "orientation": "horizontal",
      "style": "IPY_MODEL_d95a6ffb3d244b539042c518c9ffa42e",
      "value": 100
     }
    },
    "73b019c32d5946948c45a6b1566c1b06": {
     "model_module": "@jupyter-widgets/controls",
     "model_module_version": "1.5.0",
     "model_name": "DescriptionStyleModel",
     "state": {
      "_model_module": "@jupyter-widgets/controls",
      "_model_module_version": "1.5.0",
      "_model_name": "DescriptionStyleModel",
      "_view_count": null,
      "_view_module": "@jupyter-widgets/base",
      "_view_module_version": "1.2.0",
      "_view_name": "StyleView",
      "description_width": ""
     }
    },
    "7896189ebadb4304b76e2fbfe751db8a": {
     "model_module": "@jupyter-widgets/base",
     "model_module_version": "1.2.0",
     "model_name": "LayoutModel",
     "state": {
      "_model_module": "@jupyter-widgets/base",
      "_model_module_version": "1.2.0",
      "_model_name": "LayoutModel",
      "_view_count": null,
      "_view_module": "@jupyter-widgets/base",
      "_view_module_version": "1.2.0",
      "_view_name": "LayoutView",
      "align_content": null,
      "align_items": null,
      "align_self": null,
      "border": null,
      "bottom": null,
      "display": null,
      "flex": null,
      "flex_flow": null,
      "grid_area": null,
      "grid_auto_columns": null,
      "grid_auto_flow": null,
      "grid_auto_rows": null,
      "grid_column": null,
      "grid_gap": null,
      "grid_row": null,
      "grid_template_areas": null,
      "grid_template_columns": null,
      "grid_template_rows": null,
      "height": null,
      "justify_content": null,
      "justify_items": null,
      "left": null,
      "margin": null,
      "max_height": null,
      "max_width": null,
      "min_height": null,
      "min_width": null,
      "object_fit": null,
      "object_position": null,
      "order": null,
      "overflow": null,
      "overflow_x": null,
      "overflow_y": null,
      "padding": null,
      "right": null,
      "top": null,
      "visibility": null,
      "width": null
     }
    },
    "795578949ced48c8ab1fa9f3fc395776": {
     "model_module": "@jupyter-widgets/base",
     "model_module_version": "1.2.0",
     "model_name": "LayoutModel",
     "state": {
      "_model_module": "@jupyter-widgets/base",
      "_model_module_version": "1.2.0",
      "_model_name": "LayoutModel",
      "_view_count": null,
      "_view_module": "@jupyter-widgets/base",
      "_view_module_version": "1.2.0",
      "_view_name": "LayoutView",
      "align_content": null,
      "align_items": null,
      "align_self": null,
      "border": null,
      "bottom": null,
      "display": null,
      "flex": null,
      "flex_flow": null,
      "grid_area": null,
      "grid_auto_columns": null,
      "grid_auto_flow": null,
      "grid_auto_rows": null,
      "grid_column": null,
      "grid_gap": null,
      "grid_row": null,
      "grid_template_areas": null,
      "grid_template_columns": null,
      "grid_template_rows": null,
      "height": null,
      "justify_content": null,
      "justify_items": null,
      "left": null,
      "margin": null,
      "max_height": null,
      "max_width": null,
      "min_height": null,
      "min_width": null,
      "object_fit": null,
      "object_position": null,
      "order": null,
      "overflow": null,
      "overflow_x": null,
      "overflow_y": null,
      "padding": null,
      "right": null,
      "top": null,
      "visibility": null,
      "width": null
     }
    },
    "824716692e7e49ab9f3559ed493880e9": {
     "model_module": "@jupyter-widgets/controls",
     "model_module_version": "1.5.0",
     "model_name": "HTMLModel",
     "state": {
      "_dom_classes": [],
      "_model_module": "@jupyter-widgets/controls",
      "_model_module_version": "1.5.0",
      "_model_name": "HTMLModel",
      "_view_count": null,
      "_view_module": "@jupyter-widgets/controls",
      "_view_module_version": "1.5.0",
      "_view_name": "HTMLView",
      "description": "",
      "description_tooltip": null,
      "layout": "IPY_MODEL_ea64594500ae47f582a06c53da2cd4d0",
      "placeholder": "​",
      "style": "IPY_MODEL_5c111386f0ed448f9ca05ce5c8ee436b",
      "value": "100%"
     }
    },
    "851c2a94c3df4bd88e98337f14f2532c": {
     "model_module": "@jupyter-widgets/controls",
     "model_module_version": "1.5.0",
     "model_name": "DescriptionStyleModel",
     "state": {
      "_model_module": "@jupyter-widgets/controls",
      "_model_module_version": "1.5.0",
      "_model_name": "DescriptionStyleModel",
      "_view_count": null,
      "_view_module": "@jupyter-widgets/base",
      "_view_module_version": "1.2.0",
      "_view_name": "StyleView",
      "description_width": ""
     }
    },
    "93403ba7fbd145f39aec48b06676fc89": {
     "model_module": "@jupyter-widgets/controls",
     "model_module_version": "1.5.0",
     "model_name": "HTMLModel",
     "state": {
      "_dom_classes": [],
      "_model_module": "@jupyter-widgets/controls",
      "_model_module_version": "1.5.0",
      "_model_name": "HTMLModel",
      "_view_count": null,
      "_view_module": "@jupyter-widgets/controls",
      "_view_module_version": "1.5.0",
      "_view_name": "HTMLView",
      "description": "",
      "description_tooltip": null,
      "layout": "IPY_MODEL_daf22d4e3b3c45c8887eddd912d5ba61",
      "placeholder": "​",
      "style": "IPY_MODEL_556dc804e6bb49dabb6dad0824739bdf",
      "value": "100%"
     }
    },
    "996a10bb558b48599bda5b4a8a925d29": {
     "model_module": "@jupyter-widgets/controls",
     "model_module_version": "1.5.0",
     "model_name": "DescriptionStyleModel",
     "state": {
      "_model_module": "@jupyter-widgets/controls",
      "_model_module_version": "1.5.0",
      "_model_name": "DescriptionStyleModel",
      "_view_count": null,
      "_view_module": "@jupyter-widgets/base",
      "_view_module_version": "1.2.0",
      "_view_name": "StyleView",
      "description_width": ""
     }
    },
    "9e8c360000464716a0fa70ce3b485cc0": {
     "model_module": "@jupyter-widgets/base",
     "model_module_version": "1.2.0",
     "model_name": "LayoutModel",
     "state": {
      "_model_module": "@jupyter-widgets/base",
      "_model_module_version": "1.2.0",
      "_model_name": "LayoutModel",
      "_view_count": null,
      "_view_module": "@jupyter-widgets/base",
      "_view_module_version": "1.2.0",
      "_view_name": "LayoutView",
      "align_content": null,
      "align_items": null,
      "align_self": null,
      "border": null,
      "bottom": null,
      "display": null,
      "flex": null,
      "flex_flow": null,
      "grid_area": null,
      "grid_auto_columns": null,
      "grid_auto_flow": null,
      "grid_auto_rows": null,
      "grid_column": null,
      "grid_gap": null,
      "grid_row": null,
      "grid_template_areas": null,
      "grid_template_columns": null,
      "grid_template_rows": null,
      "height": null,
      "justify_content": null,
      "justify_items": null,
      "left": null,
      "margin": null,
      "max_height": null,
      "max_width": null,
      "min_height": null,
      "min_width": null,
      "object_fit": null,
      "object_position": null,
      "order": null,
      "overflow": null,
      "overflow_x": null,
      "overflow_y": null,
      "padding": null,
      "right": null,
      "top": null,
      "visibility": null,
      "width": null
     }
    },
    "a5aa3f26795a4a9db6c4bcdf03a67445": {
     "model_module": "@jupyter-widgets/controls",
     "model_module_version": "1.5.0",
     "model_name": "HBoxModel",
     "state": {
      "_dom_classes": [],
      "_model_module": "@jupyter-widgets/controls",
      "_model_module_version": "1.5.0",
      "_model_name": "HBoxModel",
      "_view_count": null,
      "_view_module": "@jupyter-widgets/controls",
      "_view_module_version": "1.5.0",
      "_view_name": "HBoxView",
      "box_style": "",
      "children": [
       "IPY_MODEL_93403ba7fbd145f39aec48b06676fc89",
       "IPY_MODEL_6e88746540634b5da0ad23c2a255ea7c",
       "IPY_MODEL_4229e71a0a3b48999e3c0bc2f37fefaf"
      ],
      "layout": "IPY_MODEL_e306b7d0e8724356b643e890cf06c621"
     }
    },
    "ac9fabf748ef4584bb2eb4c5551108cd": {
     "model_module": "@jupyter-widgets/base",
     "model_module_version": "1.2.0",
     "model_name": "LayoutModel",
     "state": {
      "_model_module": "@jupyter-widgets/base",
      "_model_module_version": "1.2.0",
      "_model_name": "LayoutModel",
      "_view_count": null,
      "_view_module": "@jupyter-widgets/base",
      "_view_module_version": "1.2.0",
      "_view_name": "LayoutView",
      "align_content": null,
      "align_items": null,
      "align_self": null,
      "border": null,
      "bottom": null,
      "display": null,
      "flex": null,
      "flex_flow": null,
      "grid_area": null,
      "grid_auto_columns": null,
      "grid_auto_flow": null,
      "grid_auto_rows": null,
      "grid_column": null,
      "grid_gap": null,
      "grid_row": null,
      "grid_template_areas": null,
      "grid_template_columns": null,
      "grid_template_rows": null,
      "height": null,
      "justify_content": null,
      "justify_items": null,
      "left": null,
      "margin": null,
      "max_height": null,
      "max_width": null,
      "min_height": null,
      "min_width": null,
      "object_fit": null,
      "object_position": null,
      "order": null,
      "overflow": null,
      "overflow_x": null,
      "overflow_y": null,
      "padding": null,
      "right": null,
      "top": null,
      "visibility": null,
      "width": null
     }
    },
    "aed7992ca1b946a99490b782e0824c45": {
     "model_module": "@jupyter-widgets/controls",
     "model_module_version": "1.5.0",
     "model_name": "ProgressStyleModel",
     "state": {
      "_model_module": "@jupyter-widgets/controls",
      "_model_module_version": "1.5.0",
      "_model_name": "ProgressStyleModel",
      "_view_count": null,
      "_view_module": "@jupyter-widgets/base",
      "_view_module_version": "1.2.0",
      "_view_name": "StyleView",
      "bar_color": null,
      "description_width": ""
     }
    },
    "bf4ab00f3ae949b3a7b1c6b00ba6be88": {
     "model_module": "@jupyter-widgets/base",
     "model_module_version": "1.2.0",
     "model_name": "LayoutModel",
     "state": {
      "_model_module": "@jupyter-widgets/base",
      "_model_module_version": "1.2.0",
      "_model_name": "LayoutModel",
      "_view_count": null,
      "_view_module": "@jupyter-widgets/base",
      "_view_module_version": "1.2.0",
      "_view_name": "LayoutView",
      "align_content": null,
      "align_items": null,
      "align_self": null,
      "border": null,
      "bottom": null,
      "display": null,
      "flex": null,
      "flex_flow": null,
      "grid_area": null,
      "grid_auto_columns": null,
      "grid_auto_flow": null,
      "grid_auto_rows": null,
      "grid_column": null,
      "grid_gap": null,
      "grid_row": null,
      "grid_template_areas": null,
      "grid_template_columns": null,
      "grid_template_rows": null,
      "height": null,
      "justify_content": null,
      "justify_items": null,
      "left": null,
      "margin": null,
      "max_height": null,
      "max_width": null,
      "min_height": null,
      "min_width": null,
      "object_fit": null,
      "object_position": null,
      "order": null,
      "overflow": null,
      "overflow_x": null,
      "overflow_y": null,
      "padding": null,
      "right": null,
      "top": null,
      "visibility": null,
      "width": null
     }
    },
    "c040a48dc2af42cd9a31755294710a10": {
     "model_module": "@jupyter-widgets/controls",
     "model_module_version": "1.5.0",
     "model_name": "HBoxModel",
     "state": {
      "_dom_classes": [],
      "_model_module": "@jupyter-widgets/controls",
      "_model_module_version": "1.5.0",
      "_model_name": "HBoxModel",
      "_view_count": null,
      "_view_module": "@jupyter-widgets/controls",
      "_view_module_version": "1.5.0",
      "_view_name": "HBoxView",
      "box_style": "",
      "children": [
       "IPY_MODEL_824716692e7e49ab9f3559ed493880e9",
       "IPY_MODEL_1266ba9a0cf04b96996ae71dd0b8bfce",
       "IPY_MODEL_47fb788484a94b039f5b4eb68008c121"
      ],
      "layout": "IPY_MODEL_6a2c963560f04b64837c1826e78c5251"
     }
    },
    "c4cd2492d74d45fb8c7ce99cbac7e9de": {
     "model_module": "@jupyter-widgets/base",
     "model_module_version": "1.2.0",
     "model_name": "LayoutModel",
     "state": {
      "_model_module": "@jupyter-widgets/base",
      "_model_module_version": "1.2.0",
      "_model_name": "LayoutModel",
      "_view_count": null,
      "_view_module": "@jupyter-widgets/base",
      "_view_module_version": "1.2.0",
      "_view_name": "LayoutView",
      "align_content": null,
      "align_items": null,
      "align_self": null,
      "border": null,
      "bottom": null,
      "display": null,
      "flex": null,
      "flex_flow": null,
      "grid_area": null,
      "grid_auto_columns": null,
      "grid_auto_flow": null,
      "grid_auto_rows": null,
      "grid_column": null,
      "grid_gap": null,
      "grid_row": null,
      "grid_template_areas": null,
      "grid_template_columns": null,
      "grid_template_rows": null,
      "height": null,
      "justify_content": null,
      "justify_items": null,
      "left": null,
      "margin": null,
      "max_height": null,
      "max_width": null,
      "min_height": null,
      "min_width": null,
      "object_fit": null,
      "object_position": null,
      "order": null,
      "overflow": null,
      "overflow_x": null,
      "overflow_y": null,
      "padding": null,
      "right": null,
      "top": null,
      "visibility": null,
      "width": null
     }
    },
    "ca478f012fea4cf4bd9565632f9d33fc": {
     "model_module": "@jupyter-widgets/controls",
     "model_module_version": "1.5.0",
     "model_name": "FloatProgressModel",
     "state": {
      "_dom_classes": [],
      "_model_module": "@jupyter-widgets/controls",
      "_model_module_version": "1.5.0",
      "_model_name": "FloatProgressModel",
      "_view_count": null,
      "_view_module": "@jupyter-widgets/controls",
      "_view_module_version": "1.5.0",
      "_view_name": "ProgressView",
      "bar_style": "",
      "description": "",
      "description_tooltip": null,
      "layout": "IPY_MODEL_bf4ab00f3ae949b3a7b1c6b00ba6be88",
      "max": 100,
      "min": 0,
      "orientation": "horizontal",
      "style": "IPY_MODEL_677af83ca7cf456da36e81b5484c5bbc",
      "value": 100
     }
    },
    "d95a6ffb3d244b539042c518c9ffa42e": {
     "model_module": "@jupyter-widgets/controls",
     "model_module_version": "1.5.0",
     "model_name": "ProgressStyleModel",
     "state": {
      "_model_module": "@jupyter-widgets/controls",
      "_model_module_version": "1.5.0",
      "_model_name": "ProgressStyleModel",
      "_view_count": null,
      "_view_module": "@jupyter-widgets/base",
      "_view_module_version": "1.2.0",
      "_view_name": "StyleView",
      "bar_color": null,
      "description_width": ""
     }
    },
    "daf22d4e3b3c45c8887eddd912d5ba61": {
     "model_module": "@jupyter-widgets/base",
     "model_module_version": "1.2.0",
     "model_name": "LayoutModel",
     "state": {
      "_model_module": "@jupyter-widgets/base",
      "_model_module_version": "1.2.0",
      "_model_name": "LayoutModel",
      "_view_count": null,
      "_view_module": "@jupyter-widgets/base",
      "_view_module_version": "1.2.0",
      "_view_name": "LayoutView",
      "align_content": null,
      "align_items": null,
      "align_self": null,
      "border": null,
      "bottom": null,
      "display": null,
      "flex": null,
      "flex_flow": null,
      "grid_area": null,
      "grid_auto_columns": null,
      "grid_auto_flow": null,
      "grid_auto_rows": null,
      "grid_column": null,
      "grid_gap": null,
      "grid_row": null,
      "grid_template_areas": null,
      "grid_template_columns": null,
      "grid_template_rows": null,
      "height": null,
      "justify_content": null,
      "justify_items": null,
      "left": null,
      "margin": null,
      "max_height": null,
      "max_width": null,
      "min_height": null,
      "min_width": null,
      "object_fit": null,
      "object_position": null,
      "order": null,
      "overflow": null,
      "overflow_x": null,
      "overflow_y": null,
      "padding": null,
      "right": null,
      "top": null,
      "visibility": null,
      "width": null
     }
    },
    "dbb8951145dd4e17ad69d8af4e0d9c10": {
     "model_module": "@jupyter-widgets/base",
     "model_module_version": "1.2.0",
     "model_name": "LayoutModel",
     "state": {
      "_model_module": "@jupyter-widgets/base",
      "_model_module_version": "1.2.0",
      "_model_name": "LayoutModel",
      "_view_count": null,
      "_view_module": "@jupyter-widgets/base",
      "_view_module_version": "1.2.0",
      "_view_name": "LayoutView",
      "align_content": null,
      "align_items": null,
      "align_self": null,
      "border": null,
      "bottom": null,
      "display": null,
      "flex": null,
      "flex_flow": null,
      "grid_area": null,
      "grid_auto_columns": null,
      "grid_auto_flow": null,
      "grid_auto_rows": null,
      "grid_column": null,
      "grid_gap": null,
      "grid_row": null,
      "grid_template_areas": null,
      "grid_template_columns": null,
      "grid_template_rows": null,
      "height": null,
      "justify_content": null,
      "justify_items": null,
      "left": null,
      "margin": null,
      "max_height": null,
      "max_width": null,
      "min_height": null,
      "min_width": null,
      "object_fit": null,
      "object_position": null,
      "order": null,
      "overflow": null,
      "overflow_x": null,
      "overflow_y": null,
      "padding": null,
      "right": null,
      "top": null,
      "visibility": null,
      "width": null
     }
    },
    "e306b7d0e8724356b643e890cf06c621": {
     "model_module": "@jupyter-widgets/base",
     "model_module_version": "1.2.0",
     "model_name": "LayoutModel",
     "state": {
      "_model_module": "@jupyter-widgets/base",
      "_model_module_version": "1.2.0",
      "_model_name": "LayoutModel",
      "_view_count": null,
      "_view_module": "@jupyter-widgets/base",
      "_view_module_version": "1.2.0",
      "_view_name": "LayoutView",
      "align_content": null,
      "align_items": null,
      "align_self": null,
      "border": null,
      "bottom": null,
      "display": null,
      "flex": null,
      "flex_flow": null,
      "grid_area": null,
      "grid_auto_columns": null,
      "grid_auto_flow": null,
      "grid_auto_rows": null,
      "grid_column": null,
      "grid_gap": null,
      "grid_row": null,
      "grid_template_areas": null,
      "grid_template_columns": null,
      "grid_template_rows": null,
      "height": null,
      "justify_content": null,
      "justify_items": null,
      "left": null,
      "margin": null,
      "max_height": null,
      "max_width": null,
      "min_height": null,
      "min_width": null,
      "object_fit": null,
      "object_position": null,
      "order": null,
      "overflow": null,
      "overflow_x": null,
      "overflow_y": null,
      "padding": null,
      "right": null,
      "top": null,
      "visibility": null,
      "width": null
     }
    },
    "ea64594500ae47f582a06c53da2cd4d0": {
     "model_module": "@jupyter-widgets/base",
     "model_module_version": "1.2.0",
     "model_name": "LayoutModel",
     "state": {
      "_model_module": "@jupyter-widgets/base",
      "_model_module_version": "1.2.0",
      "_model_name": "LayoutModel",
      "_view_count": null,
      "_view_module": "@jupyter-widgets/base",
      "_view_module_version": "1.2.0",
      "_view_name": "LayoutView",
      "align_content": null,
      "align_items": null,
      "align_self": null,
      "border": null,
      "bottom": null,
      "display": null,
      "flex": null,
      "flex_flow": null,
      "grid_area": null,
      "grid_auto_columns": null,
      "grid_auto_flow": null,
      "grid_auto_rows": null,
      "grid_column": null,
      "grid_gap": null,
      "grid_row": null,
      "grid_template_areas": null,
      "grid_template_columns": null,
      "grid_template_rows": null,
      "height": null,
      "justify_content": null,
      "justify_items": null,
      "left": null,
      "margin": null,
      "max_height": null,
      "max_width": null,
      "min_height": null,
      "min_width": null,
      "object_fit": null,
      "object_position": null,
      "order": null,
      "overflow": null,
      "overflow_x": null,
      "overflow_y": null,
      "padding": null,
      "right": null,
      "top": null,
      "visibility": null,
      "width": null
     }
    },
    "f28651228f7240cfbf16e895fe22d712": {
     "model_module": "@jupyter-widgets/controls",
     "model_module_version": "1.5.0",
     "model_name": "DescriptionStyleModel",
     "state": {
      "_model_module": "@jupyter-widgets/controls",
      "_model_module_version": "1.5.0",
      "_model_name": "DescriptionStyleModel",
      "_view_count": null,
      "_view_module": "@jupyter-widgets/base",
      "_view_module_version": "1.2.0",
      "_view_name": "StyleView",
      "description_width": ""
     }
    },
    "fba4602286c246258bce561de0b900b0": {
     "model_module": "@jupyter-widgets/controls",
     "model_module_version": "1.5.0",
     "model_name": "HBoxModel",
     "state": {
      "_dom_classes": [],
      "_model_module": "@jupyter-widgets/controls",
      "_model_module_version": "1.5.0",
      "_model_name": "HBoxModel",
      "_view_count": null,
      "_view_module": "@jupyter-widgets/controls",
      "_view_module_version": "1.5.0",
      "_view_name": "HBoxView",
      "box_style": "",
      "children": [
       "IPY_MODEL_022a9116f006440e9d6d8a2d5ebb4ff2",
       "IPY_MODEL_ca478f012fea4cf4bd9565632f9d33fc",
       "IPY_MODEL_442b918a343d455ba9b9bdc996c89bf8"
      ],
      "layout": "IPY_MODEL_795578949ced48c8ab1fa9f3fc395776"
     }
    }
   }
  }
 },
 "nbformat": 4,
 "nbformat_minor": 1
}
