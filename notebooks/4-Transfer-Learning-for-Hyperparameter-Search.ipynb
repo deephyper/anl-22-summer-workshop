{
 "cells": [
  {
   "cell_type": "markdown",
   "metadata": {
    "id": "YLQBGo9GYm_F"
   },
   "source": [
    "# 4 - Transfer Learning for Hyperparameter Optimization\n",
    "\n",
    "[![Open In Colab](https://colab.research.google.com/assets/colab-badge.svg)](https://colab.research.google.com/github/deephyper/anl-22-summer-workshop/blob/main/notebooks/4-Transfer-Learning-for-Hyperparameter-Search.ipynb)\n",
    "\n",
    "\n",
    "In this example we present how to apply transfer-learning for hyperparameter search. Let's assume you have a bunch of similar tasks for example the search of neural networks hyperparameters for different datasets. You can easily imagine that close choices of hyperparameters can perform well these different datasets even if some light additional tuning can help improve the performance. Therefore, you can perform an expensive search once to then reuse the explored set of hyperparameters of thid search and bias the following search with it. Here, we will use a cheap to compute and easy to understand example where we maximise the $f(x) = -\\sum_{i=0}^{n-1}$ function. In this case the size of the problem can be defined by the variable $n$. We will start by optimizing the small-size problem where $n=1$, then apply transfer-learning from to optimize the larger-size problem where $n=2$ and visualize the difference if were not to apply transfer-learning on this larger problem instance."
   ]
  },
  {
   "cell_type": "code",
   "execution_count": null,
   "metadata": {
    "colab": {
     "base_uri": "https://localhost:8080/"
    },
    "id": "ZaPcUi7EYm_I",
    "outputId": "a7120936-4d07-4eca-eb9a-25571ff5ce33"
   },
   "outputs": [],
   "source": [
    "# Test if notebook is executed from Google Colab\n",
    "IN_COLAB = False\n",
    "try:\n",
    "    import google.colab\n",
    "    IN_COLAB = True\n",
    "except:\n",
    "    IN_COLAB = False\n",
    "print(\"In Colab:\", IN_COLAB)\n",
    "\n",
    "# Install dependencies if running in google collab\n",
    "if IN_COLAB:\n",
    "    !pip install deephyper sdv\n",
    "    !pip install matplotlib==3.5.2\n",
    "    !git clone https://github.com/deephyper/anl-22-summer-workshop.git\n",
    "\n",
    "# Download the data if running in google collab\n",
    "if IN_COLAB:\n",
    "    %cd /content/anl-22-summer-workshop/data\n",
    "    !gdown 1J4kU3j49B9xWRpALgr8d90BjJCnwhAOS\n",
    "    !gdown 1fuHM93OUcu536Ux6p2Oandbi3BrGl8vh\n",
    "    !gdown 1fXHrFpM21LMUFj-S7jXLI4yZcJi3oAaU"
   ]
  },
  {
   "cell_type": "markdown",
   "metadata": {
    "id": "W7CeHlD1Ym_I"
   },
   "source": [
    "**If running in Google Colab, restart the runtime to load installed packages**. You can also ask for a TPU.\n",
    "\n",
    "* `Runtime > Change runtime type (select TPU)`\n",
    "* `Runtime > Restart runtime`"
   ]
  },
  {
   "cell_type": "code",
   "execution_count": null,
   "metadata": {
    "colab": {
     "base_uri": "https://localhost:8080/"
    },
    "id": "TtCM6YeZYm_I",
    "outputId": "edb1c860-4311-4e26-ba9a-5d512a3844a6"
   },
   "outputs": [],
   "source": [
    "# Test if notebook is executed from Google Colab\n",
    "IN_COLAB = False\n",
    "try:\n",
    "      import google.colab\n",
    "      IN_COLAB = True\n",
    "except:\n",
    "      IN_COLAB = False\n",
    "print(\"In Colab:\", IN_COLAB)\n",
    "\n",
    "if not(IN_COLAB):\n",
    "    import os\n",
    "    root_dir = os.path.dirname(os.getcwd())\n",
    "    %cd $root_dir\n",
    "\n",
    "import gzip\n",
    "\n",
    "import deephyper\n",
    "import matplotlib.pyplot as plt\n",
    "import numpy as np\n",
    "import tensorflow as tf\n",
    "\n",
    "from data.utils import load_sst_data, load_data_prepared\n",
    "from sklearn.decomposition import PCA\n",
    "\n",
    "from deephyper.nas.metrics import r2, mse\n",
    "\n",
    "print(f\"DeepHyper Version: {deephyper.__version__}\")\n"
   ]
  },
  {
   "cell_type": "markdown",
   "metadata": {
    "id": "9pHgtAFhYm_J"
   },
   "source": [
    "Let us start by defining the run-functions of the small and large scale problems:"
   ]
  },
  {
   "cell_type": "code",
   "execution_count": null,
   "metadata": {
    "colab": {
     "base_uri": "https://localhost:8080/"
    },
    "id": "cAav9GXDYm_J",
    "outputId": "4d92f66f-ad4d-4f85-da25-373297a3aa2f"
   },
   "outputs": [],
   "source": [
    "import functools\n",
    "\n",
    "\n",
    "def run(config: dict, N: int) -> float:\n",
    "    y = -sum([config[f\"x{i}\"] ** 2 for i in range(N)])\n",
    "    return y\n",
    "\n",
    "\n",
    "run_small = functools.partial(run, N=1)\n",
    "run_large = functools.partial(run, N=2)"
   ]
  },
  {
   "cell_type": "markdown",
   "metadata": {
    "id": "_pPsIueXYm_J"
   },
   "source": [
    "Then, we can define the hyperparameter problem space based on $n$"
   ]
  },
  {
   "cell_type": "code",
   "execution_count": null,
   "metadata": {
    "colab": {
     "base_uri": "https://localhost:8080/",
     "height": 297
    },
    "id": "uIQ_EHq2Ym_J",
    "outputId": "7b0ed931-b6eb-4069-cd05-a3402d5f247a"
   },
   "outputs": [],
   "source": [
    "from deephyper.problem import HpProblem\n",
    "\n",
    "\n",
    "N = 1\n",
    "problem_small = HpProblem()\n",
    "for i in range(N):\n",
    "    problem_small.add_hyperparameter((-10.0, 10.0), f\"x{i}\")\n",
    "problem_small"
   ]
  },
  {
   "cell_type": "code",
   "execution_count": null,
   "metadata": {
    "colab": {
     "base_uri": "https://localhost:8080/"
    },
    "id": "NMAgjBhFYm_K",
    "outputId": "d697b021-1daf-4b86-f1df-75e665fe7b8c"
   },
   "outputs": [],
   "source": [
    "N = 2\n",
    "problem_large = HpProblem()\n",
    "for i in range(N):\n",
    "    problem_large.add_hyperparameter((-10.0, 10.0), f\"x{i}\")\n",
    "problem_large"
   ]
  },
  {
   "cell_type": "markdown",
   "metadata": {
    "id": "77wrQTjjYm_K"
   },
   "source": [
    "Then, we define setup the search and execute it:"
   ]
  },
  {
   "cell_type": "code",
   "execution_count": null,
   "metadata": {
    "colab": {
     "base_uri": "https://localhost:8080/",
     "height": 369
    },
    "id": "BlWsapL8Ym_K",
    "outputId": "93c72e69-0990-4155-f62b-6a01ea4cc83e"
   },
   "outputs": [],
   "source": [
    "from deephyper.evaluator import Evaluator\n",
    "from deephyper.evaluator.callback import TqdmCallback\n",
    "from deephyper.search.hps import CBO\n",
    "\n",
    "results = {}\n",
    "max_evals = 20\n",
    "evaluator_small = Evaluator.create(\n",
    "    run_small, method=\"serial\", method_kwargs={\"callbacks\": [TqdmCallback(max_evals)]}\n",
    ")\n",
    "search_small = CBO(problem_small, evaluator_small, random_state=42)\n",
    "results[\"Small\"] = search_small.search(max_evals)"
   ]
  },
  {
   "cell_type": "code",
   "execution_count": null,
   "metadata": {
    "id": "hBhQiC5GYm_L"
   },
   "outputs": [],
   "source": [
    "evaluator_large_tl = Evaluator.create(\n",
    "    run_large, method=\"serial\", method_kwargs={\"callbacks\": [TqdmCallback(max_evals)]}\n",
    ")\n",
    "search_large_tl = CBO(problem_large, evaluator_large_tl, random_state=42)\n",
    "search_large_tl.fit_generative_model(results[\"Large\"])\n",
    "results[\"Large+TL\"] = search_large_tl.search(max_evals)"
   ]
  },
  {
   "cell_type": "markdown",
   "metadata": {},
   "source": [
    "Finally, we compare the results and quickly see that transfer-learning provided a consequant speed-up for the search:"
   ]
  },
  {
   "cell_type": "code",
   "execution_count": null,
   "metadata": {
    "colab": {
     "base_uri": "https://localhost:8080/"
    },
    "id": "MQSJLtsVYm_L",
    "outputId": "914e9e10-2ef1-464b-a8e2-579aad45b90e",
    "scrolled": true
   },
   "outputs": [],
   "source": [
    "plt.figure()\n",
    "\n",
    "for strategy, df in results.items():\n",
    "    x = [i for i in range(len(df))]\n",
    "    plt.scatter(x, df.objective, label=strategy)\n",
    "    plt.plot(x, df.objective.cummax())\n",
    "\n",
    "plt.xlabel(\"Time (sec.)\")\n",
    "plt.ylabel(\"Objective\")\n",
    "plt.grid()\n",
    "plt.legend()\n",
    "plt.show()"
   ]
  }
 ],
 "metadata": {
  "colab": {
   "name": "1-Hyperparameter-Search.ipynb",
   "provenance": []
  },
  "kernelspec": {
   "display_name": "Python 3",
   "language": "python",
   "name": "python3"
  },
  "language_info": {
   "codemirror_mode": {
    "name": "ipython",
    "version": 3
   },
   "file_extension": ".py",
   "mimetype": "text/x-python",
   "name": "python",
   "nbconvert_exporter": "python",
   "pygments_lexer": "ipython3",
   "version": "3.8.0"
  },
  "vscode": {
   "interpreter": {
    "hash": "9dc039a2a4f4ad8a9dc018393b0776cc00e1bb4d428a37e9ad776085656c6f7f"
   }
  },
  "widgets": {
   "application/vnd.jupyter.widget-state+json": {
    "242205d87c0d4d75822c24d09e24a4ba": {
     "model_module": "@jupyter-widgets/controls",
     "model_module_version": "1.5.0",
     "model_name": "ProgressStyleModel",
     "state": {
      "_model_module": "@jupyter-widgets/controls",
      "_model_module_version": "1.5.0",
      "_model_name": "ProgressStyleModel",
      "_view_count": null,
      "_view_module": "@jupyter-widgets/base",
      "_view_module_version": "1.2.0",
      "_view_name": "StyleView",
      "bar_color": null,
      "description_width": ""
     }
    },
    "25dddb4203cb408d9d91337cb5bc2d10": {
     "model_module": "@jupyter-widgets/base",
     "model_module_version": "1.2.0",
     "model_name": "LayoutModel",
     "state": {
      "_model_module": "@jupyter-widgets/base",
      "_model_module_version": "1.2.0",
      "_model_name": "LayoutModel",
      "_view_count": null,
      "_view_module": "@jupyter-widgets/base",
      "_view_module_version": "1.2.0",
      "_view_name": "LayoutView",
      "align_content": null,
      "align_items": null,
      "align_self": null,
      "border": null,
      "bottom": null,
      "display": null,
      "flex": null,
      "flex_flow": null,
      "grid_area": null,
      "grid_auto_columns": null,
      "grid_auto_flow": null,
      "grid_auto_rows": null,
      "grid_column": null,
      "grid_gap": null,
      "grid_row": null,
      "grid_template_areas": null,
      "grid_template_columns": null,
      "grid_template_rows": null,
      "height": null,
      "justify_content": null,
      "justify_items": null,
      "left": null,
      "margin": null,
      "max_height": null,
      "max_width": null,
      "min_height": null,
      "min_width": null,
      "object_fit": null,
      "object_position": null,
      "order": null,
      "overflow": null,
      "overflow_x": null,
      "overflow_y": null,
      "padding": null,
      "right": null,
      "top": null,
      "visibility": null,
      "width": null
     }
    },
    "2630d27df0264ee9ac406c8b830c343d": {
     "model_module": "@jupyter-widgets/controls",
     "model_module_version": "1.5.0",
     "model_name": "FloatProgressModel",
     "state": {
      "_dom_classes": [],
      "_model_module": "@jupyter-widgets/controls",
      "_model_module_version": "1.5.0",
      "_model_name": "FloatProgressModel",
      "_view_count": null,
      "_view_module": "@jupyter-widgets/controls",
      "_view_module_version": "1.5.0",
      "_view_name": "ProgressView",
      "bar_style": "",
      "description": "",
      "description_tooltip": null,
      "layout": "IPY_MODEL_ea9ff387419a413aad8787d9ccb7f637",
      "max": 20,
      "min": 0,
      "orientation": "horizontal",
      "style": "IPY_MODEL_242205d87c0d4d75822c24d09e24a4ba",
      "value": 5
     }
    },
    "2d3614401930436ba75bd35cdccfcca8": {
     "model_module": "@jupyter-widgets/controls",
     "model_module_version": "1.5.0",
     "model_name": "DescriptionStyleModel",
     "state": {
      "_model_module": "@jupyter-widgets/controls",
      "_model_module_version": "1.5.0",
      "_model_name": "DescriptionStyleModel",
      "_view_count": null,
      "_view_module": "@jupyter-widgets/base",
      "_view_module_version": "1.2.0",
      "_view_name": "StyleView",
      "description_width": ""
     }
    },
    "5bd0c47e5c904d04ba7772c970ddf989": {
     "model_module": "@jupyter-widgets/base",
     "model_module_version": "1.2.0",
     "model_name": "LayoutModel",
     "state": {
      "_model_module": "@jupyter-widgets/base",
      "_model_module_version": "1.2.0",
      "_model_name": "LayoutModel",
      "_view_count": null,
      "_view_module": "@jupyter-widgets/base",
      "_view_module_version": "1.2.0",
      "_view_name": "LayoutView",
      "align_content": null,
      "align_items": null,
      "align_self": null,
      "border": null,
      "bottom": null,
      "display": null,
      "flex": null,
      "flex_flow": null,
      "grid_area": null,
      "grid_auto_columns": null,
      "grid_auto_flow": null,
      "grid_auto_rows": null,
      "grid_column": null,
      "grid_gap": null,
      "grid_row": null,
      "grid_template_areas": null,
      "grid_template_columns": null,
      "grid_template_rows": null,
      "height": null,
      "justify_content": null,
      "justify_items": null,
      "left": null,
      "margin": null,
      "max_height": null,
      "max_width": null,
      "min_height": null,
      "min_width": null,
      "object_fit": null,
      "object_position": null,
      "order": null,
      "overflow": null,
      "overflow_x": null,
      "overflow_y": null,
      "padding": null,
      "right": null,
      "top": null,
      "visibility": null,
      "width": null
     }
    },
    "6e7c1d930e8b4118a253b2e3b739f6b8": {
     "model_module": "@jupyter-widgets/controls",
     "model_module_version": "1.5.0",
     "model_name": "DescriptionStyleModel",
     "state": {
      "_model_module": "@jupyter-widgets/controls",
      "_model_module_version": "1.5.0",
      "_model_name": "DescriptionStyleModel",
      "_view_count": null,
      "_view_module": "@jupyter-widgets/base",
      "_view_module_version": "1.2.0",
      "_view_name": "StyleView",
      "description_width": ""
     }
    },
    "8a1ab9c2ddeb43d18e6ac38f62ed2d30": {
     "model_module": "@jupyter-widgets/base",
     "model_module_version": "1.2.0",
     "model_name": "LayoutModel",
     "state": {
      "_model_module": "@jupyter-widgets/base",
      "_model_module_version": "1.2.0",
      "_model_name": "LayoutModel",
      "_view_count": null,
      "_view_module": "@jupyter-widgets/base",
      "_view_module_version": "1.2.0",
      "_view_name": "LayoutView",
      "align_content": null,
      "align_items": null,
      "align_self": null,
      "border": null,
      "bottom": null,
      "display": null,
      "flex": null,
      "flex_flow": null,
      "grid_area": null,
      "grid_auto_columns": null,
      "grid_auto_flow": null,
      "grid_auto_rows": null,
      "grid_column": null,
      "grid_gap": null,
      "grid_row": null,
      "grid_template_areas": null,
      "grid_template_columns": null,
      "grid_template_rows": null,
      "height": null,
      "justify_content": null,
      "justify_items": null,
      "left": null,
      "margin": null,
      "max_height": null,
      "max_width": null,
      "min_height": null,
      "min_width": null,
      "object_fit": null,
      "object_position": null,
      "order": null,
      "overflow": null,
      "overflow_x": null,
      "overflow_y": null,
      "padding": null,
      "right": null,
      "top": null,
      "visibility": null,
      "width": null
     }
    },
    "bcbc9783abb744a9b41c25d45f128c5b": {
     "model_module": "@jupyter-widgets/controls",
     "model_module_version": "1.5.0",
     "model_name": "HTMLModel",
     "state": {
      "_dom_classes": [],
      "_model_module": "@jupyter-widgets/controls",
      "_model_module_version": "1.5.0",
      "_model_name": "HTMLModel",
      "_view_count": null,
      "_view_module": "@jupyter-widgets/controls",
      "_view_module_version": "1.5.0",
      "_view_name": "HTMLView",
      "description": "",
      "description_tooltip": null,
      "layout": "IPY_MODEL_5bd0c47e5c904d04ba7772c970ddf989",
      "placeholder": "​",
      "style": "IPY_MODEL_2d3614401930436ba75bd35cdccfcca8",
      "value": " 25%"
     }
    },
    "c609eb10dc6b4ebc89e8f5a7b18fb8bb": {
     "model_module": "@jupyter-widgets/controls",
     "model_module_version": "1.5.0",
     "model_name": "HTMLModel",
     "state": {
      "_dom_classes": [],
      "_model_module": "@jupyter-widgets/controls",
      "_model_module_version": "1.5.0",
      "_model_name": "HTMLModel",
      "_view_count": null,
      "_view_module": "@jupyter-widgets/controls",
      "_view_module_version": "1.5.0",
      "_view_name": "HTMLView",
      "description": "",
      "description_tooltip": null,
      "layout": "IPY_MODEL_25dddb4203cb408d9d91337cb5bc2d10",
      "placeholder": "​",
      "style": "IPY_MODEL_6e7c1d930e8b4118a253b2e3b739f6b8",
      "value": " 5/20 [08:34&lt;29:06, 116.40s/it, objective=-.00332]"
     }
    },
    "e4530be6c98344d8a0360ec125698f73": {
     "model_module": "@jupyter-widgets/controls",
     "model_module_version": "1.5.0",
     "model_name": "HBoxModel",
     "state": {
      "_dom_classes": [],
      "_model_module": "@jupyter-widgets/controls",
      "_model_module_version": "1.5.0",
      "_model_name": "HBoxModel",
      "_view_count": null,
      "_view_module": "@jupyter-widgets/controls",
      "_view_module_version": "1.5.0",
      "_view_name": "HBoxView",
      "box_style": "",
      "children": [
       "IPY_MODEL_bcbc9783abb744a9b41c25d45f128c5b",
       "IPY_MODEL_2630d27df0264ee9ac406c8b830c343d",
       "IPY_MODEL_c609eb10dc6b4ebc89e8f5a7b18fb8bb"
      ],
      "layout": "IPY_MODEL_8a1ab9c2ddeb43d18e6ac38f62ed2d30"
     }
    },
    "ea9ff387419a413aad8787d9ccb7f637": {
     "model_module": "@jupyter-widgets/base",
     "model_module_version": "1.2.0",
     "model_name": "LayoutModel",
     "state": {
      "_model_module": "@jupyter-widgets/base",
      "_model_module_version": "1.2.0",
      "_model_name": "LayoutModel",
      "_view_count": null,
      "_view_module": "@jupyter-widgets/base",
      "_view_module_version": "1.2.0",
      "_view_name": "LayoutView",
      "align_content": null,
      "align_items": null,
      "align_self": null,
      "border": null,
      "bottom": null,
      "display": null,
      "flex": null,
      "flex_flow": null,
      "grid_area": null,
      "grid_auto_columns": null,
      "grid_auto_flow": null,
      "grid_auto_rows": null,
      "grid_column": null,
      "grid_gap": null,
      "grid_row": null,
      "grid_template_areas": null,
      "grid_template_columns": null,
      "grid_template_rows": null,
      "height": null,
      "justify_content": null,
      "justify_items": null,
      "left": null,
      "margin": null,
      "max_height": null,
      "max_width": null,
      "min_height": null,
      "min_width": null,
      "object_fit": null,
      "object_position": null,
      "order": null,
      "overflow": null,
      "overflow_x": null,
      "overflow_y": null,
      "padding": null,
      "right": null,
      "top": null,
      "visibility": null,
      "width": null
     }
    }
   }
  }
 },
 "nbformat": 4,
 "nbformat_minor": 1
}
