{
  "cells": [
    {
      "cell_type": "markdown",
      "metadata": {
        "id": "YLQBGo9GYm_F"
      },
      "source": [
        "# Transfer Learning for Hyperparameter Search\n",
        "\n",
        "[![Open In Colab](https://colab.research.google.com/assets/colab-badge.svg)](https://colab.research.google.com/github/deephyper/anl-22-summer-workshop/blob/main/notebooks/4-Transfer-Learning-for-Hyperparameter-Search.ipynb)\n",
        "\n",
        "\n",
        "In this example we present how to apply transfer-learning for hyperparameter search. Let's assume you have a bunch of similar tasks for example the search of neural networks hyperparameters for different datasets. You can easily imagine that close choices of hyperparameters can perform well these different datasets even if some light additional tuning can help improve the performance. Therefore, you can perform an expensive search once to then reuse the explored set of hyperparameters of thid search and bias the following search with it. Here, we will use a cheap to compute and easy to understand example where we maximise the Ackley function (image bellow). In this case the size of the problem can be defined by the variable $n$. We will start by optimizing the small-size problem where $n=1$, then apply transfer-learning from to optimize the larger-size problem where $n=2$ and visualize the difference if were not to apply transfer-learning on this larger problem instance.\n",
        "\n",
        "![ackley](https://www.sfu.ca/~ssurjano/ackley.png)"
      ]
    },
    {
      "cell_type": "code",
      "execution_count": 1,
      "metadata": {
        "id": "ZaPcUi7EYm_I"
      },
      "outputs": [
        {
          "name": "stdout",
          "output_type": "stream",
          "text": [
            "Requirement already satisfied: deephyper in /Users/romainegele/Documents/Argonne/deephyper (0.4.1)\n",
            "Requirement already satisfied: sdv in /Users/romainegele/miniforge3/envs/dh-arm/lib/python3.9/site-packages (0.15.0)\n",
            "Requirement already satisfied: ConfigSpace>=0.4.20 in /Users/romainegele/miniforge3/envs/dh-arm/lib/python3.9/site-packages (from deephyper) (0.5.0)\n",
            "Requirement already satisfied: dm-tree in /Users/romainegele/miniforge3/envs/dh-arm/lib/python3.9/site-packages (from deephyper) (0.1.7)\n",
            "Requirement already satisfied: Jinja2<3.1 in /Users/romainegele/miniforge3/envs/dh-arm/lib/python3.9/site-packages (from deephyper) (3.0.3)\n",
            "Requirement already satisfied: numpy in /Users/romainegele/miniforge3/envs/dh-arm/lib/python3.9/site-packages (from deephyper) (1.22.4)\n",
            "Requirement already satisfied: pandas>=0.24.2 in /Users/romainegele/miniforge3/envs/dh-arm/lib/python3.9/site-packages (from deephyper) (1.4.3)\n",
            "Requirement already satisfied: packaging in /Users/romainegele/miniforge3/envs/dh-arm/lib/python3.9/site-packages (from deephyper) (21.3)\n",
            "Requirement already satisfied: scikit-learn>=0.23.1 in /Users/romainegele/miniforge3/envs/dh-arm/lib/python3.9/site-packages (from deephyper) (1.1.1)\n",
            "Requirement already satisfied: scipy>=0.19.1 in /Users/romainegele/miniforge3/envs/dh-arm/lib/python3.9/site-packages (from deephyper) (1.7.3)\n",
            "Requirement already satisfied: tqdm>=4.64.0 in /Users/romainegele/miniforge3/envs/dh-arm/lib/python3.9/site-packages (from deephyper) (4.64.0)\n",
            "Requirement already satisfied: pyyaml in /Users/romainegele/miniforge3/envs/dh-arm/lib/python3.9/site-packages (from deephyper) (5.4.1)\n",
            "Requirement already satisfied: tinydb in /Users/romainegele/miniforge3/envs/dh-arm/lib/python3.9/site-packages (from deephyper) (4.7.0)\n",
            "Requirement already satisfied: graphviz<1,>=0.13.2 in /Users/romainegele/miniforge3/envs/dh-arm/lib/python3.9/site-packages (from sdv) (0.20)\n",
            "Requirement already satisfied: Faker<10,>=3.0.0 in /Users/romainegele/miniforge3/envs/dh-arm/lib/python3.9/site-packages (from sdv) (9.9.1)\n",
            "Requirement already satisfied: rdt<0.7,>=0.6.2 in /Users/romainegele/miniforge3/envs/dh-arm/lib/python3.9/site-packages (from sdv) (0.6.4)\n",
            "Requirement already satisfied: sdmetrics<0.6,>=0.5.0 in /Users/romainegele/miniforge3/envs/dh-arm/lib/python3.9/site-packages (from sdv) (0.5.0)\n",
            "Requirement already satisfied: copulas<0.8,>=0.7.0 in /Users/romainegele/miniforge3/envs/dh-arm/lib/python3.9/site-packages (from sdv) (0.7.0)\n",
            "Requirement already satisfied: ctgan<0.6,>=0.5.1 in /Users/romainegele/miniforge3/envs/dh-arm/lib/python3.9/site-packages (from sdv) (0.5.1)\n",
            "Requirement already satisfied: deepecho<0.4,>=0.3.0.post1 in /Users/romainegele/miniforge3/envs/dh-arm/lib/python3.9/site-packages (from sdv) (0.3.0.post1)\n",
            "Requirement already satisfied: cython in /Users/romainegele/miniforge3/envs/dh-arm/lib/python3.9/site-packages (from ConfigSpace>=0.4.20->deephyper) (0.29.30)\n",
            "Requirement already satisfied: pyparsing in /Users/romainegele/miniforge3/envs/dh-arm/lib/python3.9/site-packages (from ConfigSpace>=0.4.20->deephyper) (3.0.9)\n",
            "Requirement already satisfied: matplotlib<4,>=3.4.0 in /Users/romainegele/miniforge3/envs/dh-arm/lib/python3.9/site-packages (from copulas<0.8,>=0.7.0->sdv) (3.5.2)\n",
            "Requirement already satisfied: torch<2,>=1.8.0 in /Users/romainegele/miniforge3/envs/dh-arm/lib/python3.9/site-packages (from ctgan<0.6,>=0.5.1->sdv) (1.12.0)\n",
            "Requirement already satisfied: torchvision<1,>=0.9.0 in /Users/romainegele/miniforge3/envs/dh-arm/lib/python3.9/site-packages (from ctgan<0.6,>=0.5.1->sdv) (0.13.0)\n",
            "Requirement already satisfied: text-unidecode==1.3 in /Users/romainegele/miniforge3/envs/dh-arm/lib/python3.9/site-packages (from Faker<10,>=3.0.0->sdv) (1.3)\n",
            "Requirement already satisfied: python-dateutil>=2.4 in /Users/romainegele/miniforge3/envs/dh-arm/lib/python3.9/site-packages (from Faker<10,>=3.0.0->sdv) (2.8.2)\n",
            "Requirement already satisfied: MarkupSafe>=2.0 in /Users/romainegele/miniforge3/envs/dh-arm/lib/python3.9/site-packages (from Jinja2<3.1->deephyper) (2.1.1)\n",
            "Requirement already satisfied: pytz>=2020.1 in /Users/romainegele/miniforge3/envs/dh-arm/lib/python3.9/site-packages (from pandas>=0.24.2->deephyper) (2022.1)\n",
            "Requirement already satisfied: psutil<6,>=5.7 in /Users/romainegele/miniforge3/envs/dh-arm/lib/python3.9/site-packages (from rdt<0.7,>=0.6.2->sdv) (5.9.1)\n",
            "Requirement already satisfied: threadpoolctl>=2.0.0 in /Users/romainegele/miniforge3/envs/dh-arm/lib/python3.9/site-packages (from scikit-learn>=0.23.1->deephyper) (3.1.0)\n",
            "Requirement already satisfied: joblib>=1.0.0 in /Users/romainegele/miniforge3/envs/dh-arm/lib/python3.9/site-packages (from scikit-learn>=0.23.1->deephyper) (1.1.0)\n",
            "Requirement already satisfied: pyts<0.13.0,>=0.12.0 in /Users/romainegele/miniforge3/envs/dh-arm/lib/python3.9/site-packages (from sdmetrics<0.6,>=0.5.0->sdv) (0.12.0)\n",
            "Requirement already satisfied: pillow>=6.2.0 in /Users/romainegele/miniforge3/envs/dh-arm/lib/python3.9/site-packages (from matplotlib<4,>=3.4.0->copulas<0.8,>=0.7.0->sdv) (9.2.0)\n",
            "Requirement already satisfied: cycler>=0.10 in /Users/romainegele/miniforge3/envs/dh-arm/lib/python3.9/site-packages (from matplotlib<4,>=3.4.0->copulas<0.8,>=0.7.0->sdv) (0.11.0)\n",
            "Requirement already satisfied: kiwisolver>=1.0.1 in /Users/romainegele/miniforge3/envs/dh-arm/lib/python3.9/site-packages (from matplotlib<4,>=3.4.0->copulas<0.8,>=0.7.0->sdv) (1.4.3)\n",
            "Requirement already satisfied: fonttools>=4.22.0 in /Users/romainegele/miniforge3/envs/dh-arm/lib/python3.9/site-packages (from matplotlib<4,>=3.4.0->copulas<0.8,>=0.7.0->sdv) (4.34.4)\n",
            "Requirement already satisfied: six>=1.5 in /Users/romainegele/miniforge3/envs/dh-arm/lib/python3.9/site-packages (from python-dateutil>=2.4->Faker<10,>=3.0.0->sdv) (1.16.0)\n",
            "Requirement already satisfied: numba>=0.48.0 in /Users/romainegele/miniforge3/envs/dh-arm/lib/python3.9/site-packages (from pyts<0.13.0,>=0.12.0->sdmetrics<0.6,>=0.5.0->sdv) (0.55.2)\n",
            "Requirement already satisfied: typing-extensions in /Users/romainegele/miniforge3/envs/dh-arm/lib/python3.9/site-packages (from torch<2,>=1.8.0->ctgan<0.6,>=0.5.1->sdv) (4.3.0)\n",
            "Requirement already satisfied: requests in /Users/romainegele/miniforge3/envs/dh-arm/lib/python3.9/site-packages (from torchvision<1,>=0.9.0->ctgan<0.6,>=0.5.1->sdv) (2.28.1)\n",
            "Requirement already satisfied: llvmlite<0.39,>=0.38.0rc1 in /Users/romainegele/miniforge3/envs/dh-arm/lib/python3.9/site-packages (from numba>=0.48.0->pyts<0.13.0,>=0.12.0->sdmetrics<0.6,>=0.5.0->sdv) (0.38.1)\n",
            "Requirement already satisfied: setuptools in /Users/romainegele/miniforge3/envs/dh-arm/lib/python3.9/site-packages (from numba>=0.48.0->pyts<0.13.0,>=0.12.0->sdmetrics<0.6,>=0.5.0->sdv) (63.1.0)\n",
            "Requirement already satisfied: urllib3<1.27,>=1.21.1 in /Users/romainegele/miniforge3/envs/dh-arm/lib/python3.9/site-packages (from requests->torchvision<1,>=0.9.0->ctgan<0.6,>=0.5.1->sdv) (1.26.10)\n",
            "Requirement already satisfied: certifi>=2017.4.17 in /Users/romainegele/miniforge3/envs/dh-arm/lib/python3.9/site-packages (from requests->torchvision<1,>=0.9.0->ctgan<0.6,>=0.5.1->sdv) (2022.6.15)\n",
            "Requirement already satisfied: charset-normalizer<3,>=2 in /Users/romainegele/miniforge3/envs/dh-arm/lib/python3.9/site-packages (from requests->torchvision<1,>=0.9.0->ctgan<0.6,>=0.5.1->sdv) (2.1.0)\n",
            "Requirement already satisfied: idna<4,>=2.5 in /Users/romainegele/miniforge3/envs/dh-arm/lib/python3.9/site-packages (from requests->torchvision<1,>=0.9.0->ctgan<0.6,>=0.5.1->sdv) (3.3)\n"
          ]
        }
      ],
      "source": [
        "!pip install deephyper sdv"
      ]
    },
    {
      "cell_type": "markdown",
      "metadata": {
        "id": "W7CeHlD1Ym_I"
      },
      "source": [
        "**If running in Google Colab, restart the runtime to load installed packages**. \n",
        "* `Runtime > Restart runtime`"
      ]
    },
    {
      "cell_type": "code",
      "execution_count": 1,
      "metadata": {
        "colab": {
          "base_uri": "https://localhost:8080/"
        },
        "id": "TtCM6YeZYm_I",
        "outputId": "8329f0fe-74ea-4d19-902e-057ee9041c11"
      },
      "outputs": [
        {
          "name": "stdout",
          "output_type": "stream",
          "text": [
            "DeepHyper Version: 0.4.1\n"
          ]
        }
      ],
      "source": [
        "import deephyper\n",
        "print(f\"DeepHyper Version: {deephyper.__version__}\")\n"
      ]
    },
    {
      "cell_type": "markdown",
      "metadata": {
        "id": "9pHgtAFhYm_J"
      },
      "source": [
        "Let us start by defining the run-functions of the small and large scale problems:"
      ]
    },
    {
      "cell_type": "code",
      "execution_count": 2,
      "metadata": {
        "id": "cAav9GXDYm_J"
      },
      "outputs": [],
      "source": [
        "import functools\n",
        "import numpy as np\n",
        "\n",
        "\n",
        "def ackley(x, a=20, b=0.2, c=2 * np.pi):\n",
        "    d = len(x)\n",
        "    s1 = np.sum(x**2)\n",
        "    s2 = np.sum(np.cos(c * x))\n",
        "    term1 = -a * np.exp(-b * np.sqrt(s1 / d))\n",
        "    term2 = -np.exp(s2 / d)\n",
        "    y = term1 + term2 + a + np.exp(1)\n",
        "    return y\n",
        "\n",
        "\n",
        "def run(config: dict, N: int) -> float:\n",
        "    x = np.asarray([config[f\"x{i}\"] ** 2 for i in range(N)])\n",
        "    y = ackley(x)\n",
        "    return -y\n",
        "\n",
        "\n",
        "run_small = functools.partial(run, N=2)\n",
        "run_large = functools.partial(run, N=5)"
      ]
    },
    {
      "cell_type": "markdown",
      "metadata": {
        "id": "_pPsIueXYm_J"
      },
      "source": [
        "Then, we can define the hyperparameter problem space based on $n$"
      ]
    },
    {
      "cell_type": "code",
      "execution_count": 3,
      "metadata": {
        "colab": {
          "base_uri": "https://localhost:8080/"
        },
        "id": "uIQ_EHq2Ym_J",
        "outputId": "7c711f09-e637-4ac9-b7b5-fa57de4e9829"
      },
      "outputs": [
        {
          "data": {
            "text/plain": [
              "Configuration space object:\n",
              "  Hyperparameters:\n",
              "    x0, Type: UniformFloat, Range: [-10.0, 10.0], Default: 0.0\n",
              "    x1, Type: UniformFloat, Range: [-10.0, 10.0], Default: 0.0"
            ]
          },
          "execution_count": 3,
          "metadata": {},
          "output_type": "execute_result"
        }
      ],
      "source": [
        "from deephyper.problem import HpProblem\n",
        "\n",
        "\n",
        "N = 2\n",
        "problem_small = HpProblem()\n",
        "for i in range(N):\n",
        "    problem_small.add_hyperparameter((-10.0, 10.0), f\"x{i}\")\n",
        "problem_small"
      ]
    },
    {
      "cell_type": "code",
      "execution_count": 4,
      "metadata": {
        "colab": {
          "base_uri": "https://localhost:8080/"
        },
        "id": "NMAgjBhFYm_K",
        "outputId": "4fdb9030-0d54-45fd-d40a-a16d5aa152cc"
      },
      "outputs": [
        {
          "data": {
            "text/plain": [
              "Configuration space object:\n",
              "  Hyperparameters:\n",
              "    x0, Type: UniformFloat, Range: [-10.0, 10.0], Default: 0.0\n",
              "    x1, Type: UniformFloat, Range: [-10.0, 10.0], Default: 0.0\n",
              "    x2, Type: UniformFloat, Range: [-10.0, 10.0], Default: 0.0\n",
              "    x3, Type: UniformFloat, Range: [-10.0, 10.0], Default: 0.0\n",
              "    x4, Type: UniformFloat, Range: [-10.0, 10.0], Default: 0.0"
            ]
          },
          "execution_count": 4,
          "metadata": {},
          "output_type": "execute_result"
        }
      ],
      "source": [
        "N = 5\n",
        "problem_large = HpProblem()\n",
        "for i in range(N):\n",
        "    problem_large.add_hyperparameter((-10.0, 10.0), f\"x{i}\")\n",
        "problem_large"
      ]
    },
    {
      "cell_type": "markdown",
      "metadata": {
        "id": "77wrQTjjYm_K"
      },
      "source": [
        "Then, we setup the search and execute it. First we run the search on the small problem."
      ]
    },
    {
      "cell_type": "code",
      "execution_count": 12,
      "metadata": {
        "colab": {
          "base_uri": "https://localhost:8080/",
          "height": 83,
          "referenced_widgets": [
            "ee57b0ac309249a78b93f29573b44bc2",
            "84c50f22ef394e938330b2caf8f8a1e6",
            "8f40220c4b58457c8c876e89ddf6aa3d",
            "98964837f1a748b2a16fafe9837c966a",
            "ee311bf9c7814b0db6cd06657b62e02e",
            "51d0030be46249a0a3447338de1ee24a",
            "6790511d95984a2f887db897821f62e9",
            "f8ba786a1fd04edf9a1b4128b6ccd703",
            "41c8185091ec4a398876296c6012ae91",
            "e141676f8a8b4953af7f0951b703f8b2",
            "1fb94bb08d024c11a237e051e9fc0e69"
          ]
        },
        "id": "BlWsapL8Ym_K",
        "outputId": "f446d61d-acc6-4611-d3f0-f43ba47981c2"
      },
      "outputs": [
        {
          "data": {
            "application/vnd.jupyter.widget-view+json": {
              "model_id": "0852557150af4d5398ebbc891e49f049",
              "version_major": 2,
              "version_minor": 0
            },
            "text/plain": [
              "  0%|          | 0/100 [00:00<?, ?it/s]"
            ]
          },
          "metadata": {},
          "output_type": "display_data"
        }
      ],
      "source": [
        "from deephyper.search.hps import CBO\n",
        "\n",
        "results = {}\n",
        "max_evals = 100\n",
        "\n",
        "search_small = CBO(problem_small, run_small, surrogate_model=\"GP\", random_state=42)\n",
        "results[\"Small\"] = search_small.search(max_evals)"
      ]
    },
    {
      "cell_type": "markdown",
      "metadata": {
        "id": "N__NMnASXU3v"
      },
      "source": [
        "Then we perform the search on the large problem **without** transfer-learning."
      ]
    },
    {
      "cell_type": "code",
      "execution_count": 13,
      "metadata": {
        "colab": {
          "base_uri": "https://localhost:8080/",
          "height": 83,
          "referenced_widgets": [
            "bde1b37765f944e880a852dbb9c658aa",
            "0c545993e22142cba5d75f161070b3c4",
            "2ea6d1dcbce64906af2087555b16b856",
            "16bcb4d780d84582a8ee27af0f2f352b",
            "53764064613f4521b74733afea493635",
            "498a1da14a82456eba98f1befeac7136",
            "3e81714a860a4147809247619c6e2f7b",
            "d9511033c140433aa1c2acd682737756",
            "cc634617df5a4b318ca6c2624de877e2",
            "bbffd066ab83453ab48d5198cd77307d",
            "a2ceec6a81af47f58e62f59eaf36224e"
          ]
        },
        "id": "xE7tYY2tUZvx",
        "outputId": "6d691dfe-f839-489e-90ce-6814024fb8f6"
      },
      "outputs": [
        {
          "data": {
            "application/vnd.jupyter.widget-view+json": {
              "model_id": "647957d2ffa6455bbb10d963e6051fb3",
              "version_major": 2,
              "version_minor": 0
            },
            "text/plain": [
              "  0%|          | 0/100 [00:00<?, ?it/s]"
            ]
          },
          "metadata": {},
          "output_type": "display_data"
        },
        {
          "name": "stderr",
          "output_type": "stream",
          "text": [
            "/Users/romainegele/Documents/Argonne/deephyper/deephyper/skopt/optimizer/optimizer.py:784: UserWarning: The objective has been evaluated at this point before.\n",
            "  warnings.warn(\n",
            "/Users/romainegele/Documents/Argonne/deephyper/deephyper/skopt/optimizer/optimizer.py:784: UserWarning: The objective has been evaluated at this point before.\n",
            "  warnings.warn(\n",
            "/Users/romainegele/Documents/Argonne/deephyper/deephyper/skopt/optimizer/optimizer.py:784: UserWarning: The objective has been evaluated at this point before.\n",
            "  warnings.warn(\n",
            "/Users/romainegele/Documents/Argonne/deephyper/deephyper/skopt/optimizer/optimizer.py:784: UserWarning: The objective has been evaluated at this point before.\n",
            "  warnings.warn(\n",
            "/Users/romainegele/Documents/Argonne/deephyper/deephyper/skopt/optimizer/optimizer.py:784: UserWarning: The objective has been evaluated at this point before.\n",
            "  warnings.warn(\n",
            "/Users/romainegele/Documents/Argonne/deephyper/deephyper/skopt/optimizer/optimizer.py:784: UserWarning: The objective has been evaluated at this point before.\n",
            "  warnings.warn(\n",
            "/Users/romainegele/Documents/Argonne/deephyper/deephyper/skopt/optimizer/optimizer.py:784: UserWarning: The objective has been evaluated at this point before.\n",
            "  warnings.warn(\n",
            "/Users/romainegele/Documents/Argonne/deephyper/deephyper/skopt/optimizer/optimizer.py:784: UserWarning: The objective has been evaluated at this point before.\n",
            "  warnings.warn(\n"
          ]
        }
      ],
      "source": [
        "search_large = CBO(problem_large, run_large, surrogate_model=\"GP\", random_state=42)\n",
        "results[\"Large\"] = search_large.search(max_evals)"
      ]
    },
    {
      "cell_type": "code",
      "execution_count": 17,
      "metadata": {},
      "outputs": [
        {
          "data": {
            "image/png": "[encoded data removed]",
            "text/plain": [
              "<Figure size 432x288 with 1 Axes>"
            ]
          },
          "metadata": {
            "needs_background": "light"
          },
          "output_type": "display_data"
        }
      ],
      "source": [
        "import matplotlib.pyplot as plt\n",
        "\n",
        "\n",
        "plt.figure()\n",
        "\n",
        "for strategy, df in results.items():\n",
        "    if \"Large\" == strategy:\n",
        "      x = [i for i in range(len(df))]\n",
        "      plt.scatter(x, -df.objective, label=strategy)\n",
        "      plt.plot(x, -df.objective.cummax())\n",
        "\n",
        "plt.xlabel(\"Time (sec.)\")\n",
        "plt.ylabel(\"Objective\")\n",
        "plt.grid()\n",
        "plt.legend()\n",
        "plt.show()"
      ]
    },
    {
      "cell_type": "markdown",
      "metadata": {
        "id": "V0UOJAHPXGBk"
      },
      "source": [
        "Finally we can perform the search on the large problen **with** transfer-learning.\n",
        "\n",
        "A minimum of 10 configurations is required to perform transfer-learning. `q` is the quantile used to select the `(1-q)*100 %`-top configurations. For example `q=0.8` corresponds to selecting the top-20% configurations (10 configurations if `max_evals=50`)."
      ]
    },
    {
      "cell_type": "code",
      "execution_count": 14,
      "metadata": {
        "colab": {
          "base_uri": "https://localhost:8080/",
          "height": 83,
          "referenced_widgets": [
            "6bf724756d23415baeecccd38968787f",
            "59544f4bbbcd49faaf61e2b0fb3bfcf2",
            "e1c492f7bdc84bb8ae160f3e53fa4838",
            "5f923990456e478dbd4a68a7b55694dd",
            "19b3289e9fec433daef351eb3aeff54e",
            "bdf68b39000d445cb5b98ef437484ce4",
            "ad25ce54719f42138c97aba6b7f03aee",
            "8cf4f892c69147e1ad3dad357274cc68",
            "a928dbafb1d44725a4e13d0e17b9e12a",
            "3d75faf0b7b64987ad584397aa95afa5",
            "741ec8246c254a399e69cc67deda56a1"
          ]
        },
        "id": "hBhQiC5GYm_L",
        "outputId": "1dc86aa1-d5ee-4b66-ed41-a883346fda78"
      },
      "outputs": [
        {
          "data": {
            "application/vnd.jupyter.widget-view+json": {
              "model_id": "a5a54749c6534a1880bf7c5b674b245c",
              "version_major": 2,
              "version_minor": 0
            },
            "text/plain": [
              "  0%|          | 0/100 [00:00<?, ?it/s]"
            ]
          },
          "metadata": {},
          "output_type": "display_data"
        }
      ],
      "source": [
        "search_large_tl = CBO(problem_large, run_large, surrogate_model=\"GP\", random_state=42)\n",
        "\n",
        "# Perform transfer-learning\n",
        "search_large_tl.fit_generative_model(results[\"Small\"]) \n",
        "\n",
        "results[\"Large+TL\"] = search_large_tl.search(max_evals)"
      ]
    },
    {
      "cell_type": "markdown",
      "metadata": {
        "id": "eNj7KT-cP0PA"
      },
      "source": [
        "Finally, we compare the results and quickly see that transfer-learning provided a consequant speed-up for the search where the goal was to minimize the target function."
      ]
    },
    {
      "cell_type": "code",
      "execution_count": 16,
      "metadata": {},
      "outputs": [
        {
          "data": {
            "image/png": "[encoded data removed]",
            "text/plain": [
              "<Figure size 432x288 with 1 Axes>"
            ]
          },
          "metadata": {
            "needs_background": "light"
          },
          "output_type": "display_data"
        }
      ],
      "source": [
        "plt.figure()\n",
        "\n",
        "for strategy, df in results.items():\n",
        "    if \"Large\" in strategy:\n",
        "      x = [i for i in range(len(df))]\n",
        "      plt.scatter(x, -df.objective, label=strategy)\n",
        "      plt.plot(x, -df.objective.cummax())\n",
        "\n",
        "plt.xlabel(\"Time (sec.)\")\n",
        "plt.ylabel(\"Objective\")\n",
        "plt.grid()\n",
        "plt.legend()\n",
        "plt.show()"
      ]
    },
    {
      "cell_type": "code",
      "execution_count": null,
      "metadata": {
        "id": "wC9b9j4zbiOH"
      },
      "outputs": [],
      "source": []
    }
  ],
  "metadata": {
    "colab": {
      "name": "1-Hyperparameter-Search.ipynb",
      "provenance": []
    },
    "kernelspec": {
      "display_name": "Python 3.9.10 ('dh-arm')",
      "language": "python",
      "name": "python3"
    },
    "language_info": {
      "codemirror_mode": {
        "name": "ipython",
        "version": 3
      },
      "file_extension": ".py",
      "mimetype": "text/x-python",
      "name": "python",
      "nbconvert_exporter": "python",
      "pygments_lexer": "ipython3",
      "version": "3.9.13"
    },
    "vscode": {
      "interpreter": {
        "hash": "8f7aa5824e6ca9d379f74664a810268ab519ecb598367c3fa859d49ffea41aaf"
      }
    },
    "widgets": {
      "application/vnd.jupyter.widget-state+json": {
        "0c545993e22142cba5d75f161070b3c4": {
          "model_module": "@jupyter-widgets/controls",
          "model_module_version": "1.5.0",
          "model_name": "HTMLModel",
          "state": {
            "_dom_classes": [],
            "_model_module": "@jupyter-widgets/controls",
            "_model_module_version": "1.5.0",
            "_model_name": "HTMLModel",
            "_view_count": null,
            "_view_module": "@jupyter-widgets/controls",
            "_view_module_version": "1.5.0",
            "_view_name": "HTMLView",
            "description": "",
            "description_tooltip": null,
            "layout": "IPY_MODEL_498a1da14a82456eba98f1befeac7136",
            "placeholder": "​",
            "style": "IPY_MODEL_3e81714a860a4147809247619c6e2f7b",
            "value": "100%"
          }
        },
        "16bcb4d780d84582a8ee27af0f2f352b": {
          "model_module": "@jupyter-widgets/controls",
          "model_module_version": "1.5.0",
          "model_name": "HTMLModel",
          "state": {
            "_dom_classes": [],
            "_model_module": "@jupyter-widgets/controls",
            "_model_module_version": "1.5.0",
            "_model_name": "HTMLModel",
            "_view_count": null,
            "_view_module": "@jupyter-widgets/controls",
            "_view_module_version": "1.5.0",
            "_view_name": "HTMLView",
            "description": "",
            "description_tooltip": null,
            "layout": "IPY_MODEL_bbffd066ab83453ab48d5198cd77307d",
            "placeholder": "​",
            "style": "IPY_MODEL_a2ceec6a81af47f58e62f59eaf36224e",
            "value": " 50/50 [00:41&lt;00:00,  1.21it/s, objective=-20.9]"
          }
        },
        "19b3289e9fec433daef351eb3aeff54e": {
          "model_module": "@jupyter-widgets/base",
          "model_module_version": "1.2.0",
          "model_name": "LayoutModel",
          "state": {
            "_model_module": "@jupyter-widgets/base",
            "_model_module_version": "1.2.0",
            "_model_name": "LayoutModel",
            "_view_count": null,
            "_view_module": "@jupyter-widgets/base",
            "_view_module_version": "1.2.0",
            "_view_name": "LayoutView",
            "align_content": null,
            "align_items": null,
            "align_self": null,
            "border": null,
            "bottom": null,
            "display": null,
            "flex": null,
            "flex_flow": null,
            "grid_area": null,
            "grid_auto_columns": null,
            "grid_auto_flow": null,
            "grid_auto_rows": null,
            "grid_column": null,
            "grid_gap": null,
            "grid_row": null,
            "grid_template_areas": null,
            "grid_template_columns": null,
            "grid_template_rows": null,
            "height": null,
            "justify_content": null,
            "justify_items": null,
            "left": null,
            "margin": null,
            "max_height": null,
            "max_width": null,
            "min_height": null,
            "min_width": null,
            "object_fit": null,
            "object_position": null,
            "order": null,
            "overflow": null,
            "overflow_x": null,
            "overflow_y": null,
            "padding": null,
            "right": null,
            "top": null,
            "visibility": null,
            "width": null
          }
        },
        "1fb94bb08d024c11a237e051e9fc0e69": {
          "model_module": "@jupyter-widgets/controls",
          "model_module_version": "1.5.0",
          "model_name": "DescriptionStyleModel",
          "state": {
            "_model_module": "@jupyter-widgets/controls",
            "_model_module_version": "1.5.0",
            "_model_name": "DescriptionStyleModel",
            "_view_count": null,
            "_view_module": "@jupyter-widgets/base",
            "_view_module_version": "1.2.0",
            "_view_name": "StyleView",
            "description_width": ""
          }
        },
        "2ea6d1dcbce64906af2087555b16b856": {
          "model_module": "@jupyter-widgets/controls",
          "model_module_version": "1.5.0",
          "model_name": "FloatProgressModel",
          "state": {
            "_dom_classes": [],
            "_model_module": "@jupyter-widgets/controls",
            "_model_module_version": "1.5.0",
            "_model_name": "FloatProgressModel",
            "_view_count": null,
            "_view_module": "@jupyter-widgets/controls",
            "_view_module_version": "1.5.0",
            "_view_name": "ProgressView",
            "bar_style": "",
            "description": "",
            "description_tooltip": null,
            "layout": "IPY_MODEL_d9511033c140433aa1c2acd682737756",
            "max": 50,
            "min": 0,
            "orientation": "horizontal",
            "style": "IPY_MODEL_cc634617df5a4b318ca6c2624de877e2",
            "value": 50
          }
        },
        "3d75faf0b7b64987ad584397aa95afa5": {
          "model_module": "@jupyter-widgets/base",
          "model_module_version": "1.2.0",
          "model_name": "LayoutModel",
          "state": {
            "_model_module": "@jupyter-widgets/base",
            "_model_module_version": "1.2.0",
            "_model_name": "LayoutModel",
            "_view_count": null,
            "_view_module": "@jupyter-widgets/base",
            "_view_module_version": "1.2.0",
            "_view_name": "LayoutView",
            "align_content": null,
            "align_items": null,
            "align_self": null,
            "border": null,
            "bottom": null,
            "display": null,
            "flex": null,
            "flex_flow": null,
            "grid_area": null,
            "grid_auto_columns": null,
            "grid_auto_flow": null,
            "grid_auto_rows": null,
            "grid_column": null,
            "grid_gap": null,
            "grid_row": null,
            "grid_template_areas": null,
            "grid_template_columns": null,
            "grid_template_rows": null,
            "height": null,
            "justify_content": null,
            "justify_items": null,
            "left": null,
            "margin": null,
            "max_height": null,
            "max_width": null,
            "min_height": null,
            "min_width": null,
            "object_fit": null,
            "object_position": null,
            "order": null,
            "overflow": null,
            "overflow_x": null,
            "overflow_y": null,
            "padding": null,
            "right": null,
            "top": null,
            "visibility": null,
            "width": null
          }
        },
        "3e81714a860a4147809247619c6e2f7b": {
          "model_module": "@jupyter-widgets/controls",
          "model_module_version": "1.5.0",
          "model_name": "DescriptionStyleModel",
          "state": {
            "_model_module": "@jupyter-widgets/controls",
            "_model_module_version": "1.5.0",
            "_model_name": "DescriptionStyleModel",
            "_view_count": null,
            "_view_module": "@jupyter-widgets/base",
            "_view_module_version": "1.2.0",
            "_view_name": "StyleView",
            "description_width": ""
          }
        },
        "41c8185091ec4a398876296c6012ae91": {
          "model_module": "@jupyter-widgets/controls",
          "model_module_version": "1.5.0",
          "model_name": "ProgressStyleModel",
          "state": {
            "_model_module": "@jupyter-widgets/controls",
            "_model_module_version": "1.5.0",
            "_model_name": "ProgressStyleModel",
            "_view_count": null,
            "_view_module": "@jupyter-widgets/base",
            "_view_module_version": "1.2.0",
            "_view_name": "StyleView",
            "bar_color": null,
            "description_width": ""
          }
        },
        "498a1da14a82456eba98f1befeac7136": {
          "model_module": "@jupyter-widgets/base",
          "model_module_version": "1.2.0",
          "model_name": "LayoutModel",
          "state": {
            "_model_module": "@jupyter-widgets/base",
            "_model_module_version": "1.2.0",
            "_model_name": "LayoutModel",
            "_view_count": null,
            "_view_module": "@jupyter-widgets/base",
            "_view_module_version": "1.2.0",
            "_view_name": "LayoutView",
            "align_content": null,
            "align_items": null,
            "align_self": null,
            "border": null,
            "bottom": null,
            "display": null,
            "flex": null,
            "flex_flow": null,
            "grid_area": null,
            "grid_auto_columns": null,
            "grid_auto_flow": null,
            "grid_auto_rows": null,
            "grid_column": null,
            "grid_gap": null,
            "grid_row": null,
            "grid_template_areas": null,
            "grid_template_columns": null,
            "grid_template_rows": null,
            "height": null,
            "justify_content": null,
            "justify_items": null,
            "left": null,
            "margin": null,
            "max_height": null,
            "max_width": null,
            "min_height": null,
            "min_width": null,
            "object_fit": null,
            "object_position": null,
            "order": null,
            "overflow": null,
            "overflow_x": null,
            "overflow_y": null,
            "padding": null,
            "right": null,
            "top": null,
            "visibility": null,
            "width": null
          }
        },
        "51d0030be46249a0a3447338de1ee24a": {
          "model_module": "@jupyter-widgets/base",
          "model_module_version": "1.2.0",
          "model_name": "LayoutModel",
          "state": {
            "_model_module": "@jupyter-widgets/base",
            "_model_module_version": "1.2.0",
            "_model_name": "LayoutModel",
            "_view_count": null,
            "_view_module": "@jupyter-widgets/base",
            "_view_module_version": "1.2.0",
            "_view_name": "LayoutView",
            "align_content": null,
            "align_items": null,
            "align_self": null,
            "border": null,
            "bottom": null,
            "display": null,
            "flex": null,
            "flex_flow": null,
            "grid_area": null,
            "grid_auto_columns": null,
            "grid_auto_flow": null,
            "grid_auto_rows": null,
            "grid_column": null,
            "grid_gap": null,
            "grid_row": null,
            "grid_template_areas": null,
            "grid_template_columns": null,
            "grid_template_rows": null,
            "height": null,
            "justify_content": null,
            "justify_items": null,
            "left": null,
            "margin": null,
            "max_height": null,
            "max_width": null,
            "min_height": null,
            "min_width": null,
            "object_fit": null,
            "object_position": null,
            "order": null,
            "overflow": null,
            "overflow_x": null,
            "overflow_y": null,
            "padding": null,
            "right": null,
            "top": null,
            "visibility": null,
            "width": null
          }
        },
        "53764064613f4521b74733afea493635": {
          "model_module": "@jupyter-widgets/base",
          "model_module_version": "1.2.0",
          "model_name": "LayoutModel",
          "state": {
            "_model_module": "@jupyter-widgets/base",
            "_model_module_version": "1.2.0",
            "_model_name": "LayoutModel",
            "_view_count": null,
            "_view_module": "@jupyter-widgets/base",
            "_view_module_version": "1.2.0",
            "_view_name": "LayoutView",
            "align_content": null,
            "align_items": null,
            "align_self": null,
            "border": null,
            "bottom": null,
            "display": null,
            "flex": null,
            "flex_flow": null,
            "grid_area": null,
            "grid_auto_columns": null,
            "grid_auto_flow": null,
            "grid_auto_rows": null,
            "grid_column": null,
            "grid_gap": null,
            "grid_row": null,
            "grid_template_areas": null,
            "grid_template_columns": null,
            "grid_template_rows": null,
            "height": null,
            "justify_content": null,
            "justify_items": null,
            "left": null,
            "margin": null,
            "max_height": null,
            "max_width": null,
            "min_height": null,
            "min_width": null,
            "object_fit": null,
            "object_position": null,
            "order": null,
            "overflow": null,
            "overflow_x": null,
            "overflow_y": null,
            "padding": null,
            "right": null,
            "top": null,
            "visibility": null,
            "width": null
          }
        },
        "59544f4bbbcd49faaf61e2b0fb3bfcf2": {
          "model_module": "@jupyter-widgets/controls",
          "model_module_version": "1.5.0",
          "model_name": "HTMLModel",
          "state": {
            "_dom_classes": [],
            "_model_module": "@jupyter-widgets/controls",
            "_model_module_version": "1.5.0",
            "_model_name": "HTMLModel",
            "_view_count": null,
            "_view_module": "@jupyter-widgets/controls",
            "_view_module_version": "1.5.0",
            "_view_name": "HTMLView",
            "description": "",
            "description_tooltip": null,
            "layout": "IPY_MODEL_bdf68b39000d445cb5b98ef437484ce4",
            "placeholder": "​",
            "style": "IPY_MODEL_ad25ce54719f42138c97aba6b7f03aee",
            "value": "100%"
          }
        },
        "5f923990456e478dbd4a68a7b55694dd": {
          "model_module": "@jupyter-widgets/controls",
          "model_module_version": "1.5.0",
          "model_name": "HTMLModel",
          "state": {
            "_dom_classes": [],
            "_model_module": "@jupyter-widgets/controls",
            "_model_module_version": "1.5.0",
            "_model_name": "HTMLModel",
            "_view_count": null,
            "_view_module": "@jupyter-widgets/controls",
            "_view_module_version": "1.5.0",
            "_view_name": "HTMLView",
            "description": "",
            "description_tooltip": null,
            "layout": "IPY_MODEL_3d75faf0b7b64987ad584397aa95afa5",
            "placeholder": "​",
            "style": "IPY_MODEL_741ec8246c254a399e69cc67deda56a1",
            "value": " 50/50 [00:42&lt;00:00,  1.06s/it, objective=-.785]"
          }
        },
        "6790511d95984a2f887db897821f62e9": {
          "model_module": "@jupyter-widgets/controls",
          "model_module_version": "1.5.0",
          "model_name": "DescriptionStyleModel",
          "state": {
            "_model_module": "@jupyter-widgets/controls",
            "_model_module_version": "1.5.0",
            "_model_name": "DescriptionStyleModel",
            "_view_count": null,
            "_view_module": "@jupyter-widgets/base",
            "_view_module_version": "1.2.0",
            "_view_name": "StyleView",
            "description_width": ""
          }
        },
        "6bf724756d23415baeecccd38968787f": {
          "model_module": "@jupyter-widgets/controls",
          "model_module_version": "1.5.0",
          "model_name": "HBoxModel",
          "state": {
            "_dom_classes": [],
            "_model_module": "@jupyter-widgets/controls",
            "_model_module_version": "1.5.0",
            "_model_name": "HBoxModel",
            "_view_count": null,
            "_view_module": "@jupyter-widgets/controls",
            "_view_module_version": "1.5.0",
            "_view_name": "HBoxView",
            "box_style": "",
            "children": [
              "IPY_MODEL_59544f4bbbcd49faaf61e2b0fb3bfcf2",
              "IPY_MODEL_e1c492f7bdc84bb8ae160f3e53fa4838",
              "IPY_MODEL_5f923990456e478dbd4a68a7b55694dd"
            ],
            "layout": "IPY_MODEL_19b3289e9fec433daef351eb3aeff54e"
          }
        },
        "741ec8246c254a399e69cc67deda56a1": {
          "model_module": "@jupyter-widgets/controls",
          "model_module_version": "1.5.0",
          "model_name": "DescriptionStyleModel",
          "state": {
            "_model_module": "@jupyter-widgets/controls",
            "_model_module_version": "1.5.0",
            "_model_name": "DescriptionStyleModel",
            "_view_count": null,
            "_view_module": "@jupyter-widgets/base",
            "_view_module_version": "1.2.0",
            "_view_name": "StyleView",
            "description_width": ""
          }
        },
        "84c50f22ef394e938330b2caf8f8a1e6": {
          "model_module": "@jupyter-widgets/controls",
          "model_module_version": "1.5.0",
          "model_name": "HTMLModel",
          "state": {
            "_dom_classes": [],
            "_model_module": "@jupyter-widgets/controls",
            "_model_module_version": "1.5.0",
            "_model_name": "HTMLModel",
            "_view_count": null,
            "_view_module": "@jupyter-widgets/controls",
            "_view_module_version": "1.5.0",
            "_view_name": "HTMLView",
            "description": "",
            "description_tooltip": null,
            "layout": "IPY_MODEL_51d0030be46249a0a3447338de1ee24a",
            "placeholder": "​",
            "style": "IPY_MODEL_6790511d95984a2f887db897821f62e9",
            "value": "100%"
          }
        },
        "8cf4f892c69147e1ad3dad357274cc68": {
          "model_module": "@jupyter-widgets/base",
          "model_module_version": "1.2.0",
          "model_name": "LayoutModel",
          "state": {
            "_model_module": "@jupyter-widgets/base",
            "_model_module_version": "1.2.0",
            "_model_name": "LayoutModel",
            "_view_count": null,
            "_view_module": "@jupyter-widgets/base",
            "_view_module_version": "1.2.0",
            "_view_name": "LayoutView",
            "align_content": null,
            "align_items": null,
            "align_self": null,
            "border": null,
            "bottom": null,
            "display": null,
            "flex": null,
            "flex_flow": null,
            "grid_area": null,
            "grid_auto_columns": null,
            "grid_auto_flow": null,
            "grid_auto_rows": null,
            "grid_column": null,
            "grid_gap": null,
            "grid_row": null,
            "grid_template_areas": null,
            "grid_template_columns": null,
            "grid_template_rows": null,
            "height": null,
            "justify_content": null,
            "justify_items": null,
            "left": null,
            "margin": null,
            "max_height": null,
            "max_width": null,
            "min_height": null,
            "min_width": null,
            "object_fit": null,
            "object_position": null,
            "order": null,
            "overflow": null,
            "overflow_x": null,
            "overflow_y": null,
            "padding": null,
            "right": null,
            "top": null,
            "visibility": null,
            "width": null
          }
        },
        "8f40220c4b58457c8c876e89ddf6aa3d": {
          "model_module": "@jupyter-widgets/controls",
          "model_module_version": "1.5.0",
          "model_name": "FloatProgressModel",
          "state": {
            "_dom_classes": [],
            "_model_module": "@jupyter-widgets/controls",
            "_model_module_version": "1.5.0",
            "_model_name": "FloatProgressModel",
            "_view_count": null,
            "_view_module": "@jupyter-widgets/controls",
            "_view_module_version": "1.5.0",
            "_view_name": "ProgressView",
            "bar_style": "",
            "description": "",
            "description_tooltip": null,
            "layout": "IPY_MODEL_f8ba786a1fd04edf9a1b4128b6ccd703",
            "max": 50,
            "min": 0,
            "orientation": "horizontal",
            "style": "IPY_MODEL_41c8185091ec4a398876296c6012ae91",
            "value": 50
          }
        },
        "98964837f1a748b2a16fafe9837c966a": {
          "model_module": "@jupyter-widgets/controls",
          "model_module_version": "1.5.0",
          "model_name": "HTMLModel",
          "state": {
            "_dom_classes": [],
            "_model_module": "@jupyter-widgets/controls",
            "_model_module_version": "1.5.0",
            "_model_name": "HTMLModel",
            "_view_count": null,
            "_view_module": "@jupyter-widgets/controls",
            "_view_module_version": "1.5.0",
            "_view_name": "HTMLView",
            "description": "",
            "description_tooltip": null,
            "layout": "IPY_MODEL_e141676f8a8b4953af7f0951b703f8b2",
            "placeholder": "​",
            "style": "IPY_MODEL_1fb94bb08d024c11a237e051e9fc0e69",
            "value": " 50/50 [00:28&lt;00:00,  1.37it/s, objective=-.836]"
          }
        },
        "a2ceec6a81af47f58e62f59eaf36224e": {
          "model_module": "@jupyter-widgets/controls",
          "model_module_version": "1.5.0",
          "model_name": "DescriptionStyleModel",
          "state": {
            "_model_module": "@jupyter-widgets/controls",
            "_model_module_version": "1.5.0",
            "_model_name": "DescriptionStyleModel",
            "_view_count": null,
            "_view_module": "@jupyter-widgets/base",
            "_view_module_version": "1.2.0",
            "_view_name": "StyleView",
            "description_width": ""
          }
        },
        "a928dbafb1d44725a4e13d0e17b9e12a": {
          "model_module": "@jupyter-widgets/controls",
          "model_module_version": "1.5.0",
          "model_name": "ProgressStyleModel",
          "state": {
            "_model_module": "@jupyter-widgets/controls",
            "_model_module_version": "1.5.0",
            "_model_name": "ProgressStyleModel",
            "_view_count": null,
            "_view_module": "@jupyter-widgets/base",
            "_view_module_version": "1.2.0",
            "_view_name": "StyleView",
            "bar_color": null,
            "description_width": ""
          }
        },
        "ad25ce54719f42138c97aba6b7f03aee": {
          "model_module": "@jupyter-widgets/controls",
          "model_module_version": "1.5.0",
          "model_name": "DescriptionStyleModel",
          "state": {
            "_model_module": "@jupyter-widgets/controls",
            "_model_module_version": "1.5.0",
            "_model_name": "DescriptionStyleModel",
            "_view_count": null,
            "_view_module": "@jupyter-widgets/base",
            "_view_module_version": "1.2.0",
            "_view_name": "StyleView",
            "description_width": ""
          }
        },
        "bbffd066ab83453ab48d5198cd77307d": {
          "model_module": "@jupyter-widgets/base",
          "model_module_version": "1.2.0",
          "model_name": "LayoutModel",
          "state": {
            "_model_module": "@jupyter-widgets/base",
            "_model_module_version": "1.2.0",
            "_model_name": "LayoutModel",
            "_view_count": null,
            "_view_module": "@jupyter-widgets/base",
            "_view_module_version": "1.2.0",
            "_view_name": "LayoutView",
            "align_content": null,
            "align_items": null,
            "align_self": null,
            "border": null,
            "bottom": null,
            "display": null,
            "flex": null,
            "flex_flow": null,
            "grid_area": null,
            "grid_auto_columns": null,
            "grid_auto_flow": null,
            "grid_auto_rows": null,
            "grid_column": null,
            "grid_gap": null,
            "grid_row": null,
            "grid_template_areas": null,
            "grid_template_columns": null,
            "grid_template_rows": null,
            "height": null,
            "justify_content": null,
            "justify_items": null,
            "left": null,
            "margin": null,
            "max_height": null,
            "max_width": null,
            "min_height": null,
            "min_width": null,
            "object_fit": null,
            "object_position": null,
            "order": null,
            "overflow": null,
            "overflow_x": null,
            "overflow_y": null,
            "padding": null,
            "right": null,
            "top": null,
            "visibility": null,
            "width": null
          }
        },
        "bde1b37765f944e880a852dbb9c658aa": {
          "model_module": "@jupyter-widgets/controls",
          "model_module_version": "1.5.0",
          "model_name": "HBoxModel",
          "state": {
            "_dom_classes": [],
            "_model_module": "@jupyter-widgets/controls",
            "_model_module_version": "1.5.0",
            "_model_name": "HBoxModel",
            "_view_count": null,
            "_view_module": "@jupyter-widgets/controls",
            "_view_module_version": "1.5.0",
            "_view_name": "HBoxView",
            "box_style": "",
            "children": [
              "IPY_MODEL_0c545993e22142cba5d75f161070b3c4",
              "IPY_MODEL_2ea6d1dcbce64906af2087555b16b856",
              "IPY_MODEL_16bcb4d780d84582a8ee27af0f2f352b"
            ],
            "layout": "IPY_MODEL_53764064613f4521b74733afea493635"
          }
        },
        "bdf68b39000d445cb5b98ef437484ce4": {
          "model_module": "@jupyter-widgets/base",
          "model_module_version": "1.2.0",
          "model_name": "LayoutModel",
          "state": {
            "_model_module": "@jupyter-widgets/base",
            "_model_module_version": "1.2.0",
            "_model_name": "LayoutModel",
            "_view_count": null,
            "_view_module": "@jupyter-widgets/base",
            "_view_module_version": "1.2.0",
            "_view_name": "LayoutView",
            "align_content": null,
            "align_items": null,
            "align_self": null,
            "border": null,
            "bottom": null,
            "display": null,
            "flex": null,
            "flex_flow": null,
            "grid_area": null,
            "grid_auto_columns": null,
            "grid_auto_flow": null,
            "grid_auto_rows": null,
            "grid_column": null,
            "grid_gap": null,
            "grid_row": null,
            "grid_template_areas": null,
            "grid_template_columns": null,
            "grid_template_rows": null,
            "height": null,
            "justify_content": null,
            "justify_items": null,
            "left": null,
            "margin": null,
            "max_height": null,
            "max_width": null,
            "min_height": null,
            "min_width": null,
            "object_fit": null,
            "object_position": null,
            "order": null,
            "overflow": null,
            "overflow_x": null,
            "overflow_y": null,
            "padding": null,
            "right": null,
            "top": null,
            "visibility": null,
            "width": null
          }
        },
        "cc634617df5a4b318ca6c2624de877e2": {
          "model_module": "@jupyter-widgets/controls",
          "model_module_version": "1.5.0",
          "model_name": "ProgressStyleModel",
          "state": {
            "_model_module": "@jupyter-widgets/controls",
            "_model_module_version": "1.5.0",
            "_model_name": "ProgressStyleModel",
            "_view_count": null,
            "_view_module": "@jupyter-widgets/base",
            "_view_module_version": "1.2.0",
            "_view_name": "StyleView",
            "bar_color": null,
            "description_width": ""
          }
        },
        "d9511033c140433aa1c2acd682737756": {
          "model_module": "@jupyter-widgets/base",
          "model_module_version": "1.2.0",
          "model_name": "LayoutModel",
          "state": {
            "_model_module": "@jupyter-widgets/base",
            "_model_module_version": "1.2.0",
            "_model_name": "LayoutModel",
            "_view_count": null,
            "_view_module": "@jupyter-widgets/base",
            "_view_module_version": "1.2.0",
            "_view_name": "LayoutView",
            "align_content": null,
            "align_items": null,
            "align_self": null,
            "border": null,
            "bottom": null,
            "display": null,
            "flex": null,
            "flex_flow": null,
            "grid_area": null,
            "grid_auto_columns": null,
            "grid_auto_flow": null,
            "grid_auto_rows": null,
            "grid_column": null,
            "grid_gap": null,
            "grid_row": null,
            "grid_template_areas": null,
            "grid_template_columns": null,
            "grid_template_rows": null,
            "height": null,
            "justify_content": null,
            "justify_items": null,
            "left": null,
            "margin": null,
            "max_height": null,
            "max_width": null,
            "min_height": null,
            "min_width": null,
            "object_fit": null,
            "object_position": null,
            "order": null,
            "overflow": null,
            "overflow_x": null,
            "overflow_y": null,
            "padding": null,
            "right": null,
            "top": null,
            "visibility": null,
            "width": null
          }
        },
        "e141676f8a8b4953af7f0951b703f8b2": {
          "model_module": "@jupyter-widgets/base",
          "model_module_version": "1.2.0",
          "model_name": "LayoutModel",
          "state": {
            "_model_module": "@jupyter-widgets/base",
            "_model_module_version": "1.2.0",
            "_model_name": "LayoutModel",
            "_view_count": null,
            "_view_module": "@jupyter-widgets/base",
            "_view_module_version": "1.2.0",
            "_view_name": "LayoutView",
            "align_content": null,
            "align_items": null,
            "align_self": null,
            "border": null,
            "bottom": null,
            "display": null,
            "flex": null,
            "flex_flow": null,
            "grid_area": null,
            "grid_auto_columns": null,
            "grid_auto_flow": null,
            "grid_auto_rows": null,
            "grid_column": null,
            "grid_gap": null,
            "grid_row": null,
            "grid_template_areas": null,
            "grid_template_columns": null,
            "grid_template_rows": null,
            "height": null,
            "justify_content": null,
            "justify_items": null,
            "left": null,
            "margin": null,
            "max_height": null,
            "max_width": null,
            "min_height": null,
            "min_width": null,
            "object_fit": null,
            "object_position": null,
            "order": null,
            "overflow": null,
            "overflow_x": null,
            "overflow_y": null,
            "padding": null,
            "right": null,
            "top": null,
            "visibility": null,
            "width": null
          }
        },
        "e1c492f7bdc84bb8ae160f3e53fa4838": {
          "model_module": "@jupyter-widgets/controls",
          "model_module_version": "1.5.0",
          "model_name": "FloatProgressModel",
          "state": {
            "_dom_classes": [],
            "_model_module": "@jupyter-widgets/controls",
            "_model_module_version": "1.5.0",
            "_model_name": "FloatProgressModel",
            "_view_count": null,
            "_view_module": "@jupyter-widgets/controls",
            "_view_module_version": "1.5.0",
            "_view_name": "ProgressView",
            "bar_style": "",
            "description": "",
            "description_tooltip": null,
            "layout": "IPY_MODEL_8cf4f892c69147e1ad3dad357274cc68",
            "max": 50,
            "min": 0,
            "orientation": "horizontal",
            "style": "IPY_MODEL_a928dbafb1d44725a4e13d0e17b9e12a",
            "value": 50
          }
        },
        "ee311bf9c7814b0db6cd06657b62e02e": {
          "model_module": "@jupyter-widgets/base",
          "model_module_version": "1.2.0",
          "model_name": "LayoutModel",
          "state": {
            "_model_module": "@jupyter-widgets/base",
            "_model_module_version": "1.2.0",
            "_model_name": "LayoutModel",
            "_view_count": null,
            "_view_module": "@jupyter-widgets/base",
            "_view_module_version": "1.2.0",
            "_view_name": "LayoutView",
            "align_content": null,
            "align_items": null,
            "align_self": null,
            "border": null,
            "bottom": null,
            "display": null,
            "flex": null,
            "flex_flow": null,
            "grid_area": null,
            "grid_auto_columns": null,
            "grid_auto_flow": null,
            "grid_auto_rows": null,
            "grid_column": null,
            "grid_gap": null,
            "grid_row": null,
            "grid_template_areas": null,
            "grid_template_columns": null,
            "grid_template_rows": null,
            "height": null,
            "justify_content": null,
            "justify_items": null,
            "left": null,
            "margin": null,
            "max_height": null,
            "max_width": null,
            "min_height": null,
            "min_width": null,
            "object_fit": null,
            "object_position": null,
            "order": null,
            "overflow": null,
            "overflow_x": null,
            "overflow_y": null,
            "padding": null,
            "right": null,
            "top": null,
            "visibility": null,
            "width": null
          }
        },
        "ee57b0ac309249a78b93f29573b44bc2": {
          "model_module": "@jupyter-widgets/controls",
          "model_module_version": "1.5.0",
          "model_name": "HBoxModel",
          "state": {
            "_dom_classes": [],
            "_model_module": "@jupyter-widgets/controls",
            "_model_module_version": "1.5.0",
            "_model_name": "HBoxModel",
            "_view_count": null,
            "_view_module": "@jupyter-widgets/controls",
            "_view_module_version": "1.5.0",
            "_view_name": "HBoxView",
            "box_style": "",
            "children": [
              "IPY_MODEL_84c50f22ef394e938330b2caf8f8a1e6",
              "IPY_MODEL_8f40220c4b58457c8c876e89ddf6aa3d",
              "IPY_MODEL_98964837f1a748b2a16fafe9837c966a"
            ],
            "layout": "IPY_MODEL_ee311bf9c7814b0db6cd06657b62e02e"
          }
        },
        "f8ba786a1fd04edf9a1b4128b6ccd703": {
          "model_module": "@jupyter-widgets/base",
          "model_module_version": "1.2.0",
          "model_name": "LayoutModel",
          "state": {
            "_model_module": "@jupyter-widgets/base",
            "_model_module_version": "1.2.0",
            "_model_name": "LayoutModel",
            "_view_count": null,
            "_view_module": "@jupyter-widgets/base",
            "_view_module_version": "1.2.0",
            "_view_name": "LayoutView",
            "align_content": null,
            "align_items": null,
            "align_self": null,
            "border": null,
            "bottom": null,
            "display": null,
            "flex": null,
            "flex_flow": null,
            "grid_area": null,
            "grid_auto_columns": null,
            "grid_auto_flow": null,
            "grid_auto_rows": null,
            "grid_column": null,
            "grid_gap": null,
            "grid_row": null,
            "grid_template_areas": null,
            "grid_template_columns": null,
            "grid_template_rows": null,
            "height": null,
            "justify_content": null,
            "justify_items": null,
            "left": null,
            "margin": null,
            "max_height": null,
            "max_width": null,
            "min_height": null,
            "min_width": null,
            "object_fit": null,
            "object_position": null,
            "order": null,
            "overflow": null,
            "overflow_x": null,
            "overflow_y": null,
            "padding": null,
            "right": null,
            "top": null,
            "visibility": null,
            "width": null
          }
        }
      }
    }
  },
  "nbformat": 4,
  "nbformat_minor": 0
}
